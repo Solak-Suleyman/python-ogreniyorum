{
 "cells": [
  {
   "cell_type": "code",
   "execution_count": 1,
   "id": "7538b8ff",
   "metadata": {},
   "outputs": [],
   "source": [
    "import numpy as np\n",
    "import pandas as pd"
   ]
  },
  {
   "cell_type": "code",
   "execution_count": 2,
   "id": "754e4bbd",
   "metadata": {},
   "outputs": [],
   "source": [
    "maasSozluk={\"Isimler\":[\"Sülo\",\"Burak\",\"Mert\",\"Batu\"],\"Departman\":[\"Yazılım\",\"Satis\",\"Pazarlama\",\"Yazılım\"],\"Maas\":[500,200,100,400]}"
   ]
  },
  {
   "cell_type": "code",
   "execution_count": 30,
   "id": "f495e523",
   "metadata": {},
   "outputs": [],
   "source": [
    "isimler=[\"Sülo\",\"Burak\",\"Mert\",\"Batu\"]\n",
    "departman=[\"Yazılım\",\"Satis\",\"Pazarlama\",\"Yazılım\"]\n",
    "maas=[500,200,100,400],\n",
    "id_no=[12,15,17,19]"
   ]
  },
  {
   "cell_type": "code",
   "execution_count": 45,
   "id": "05c99428",
   "metadata": {},
   "outputs": [
    {
     "ename": "SyntaxError",
     "evalue": "invalid syntax (Temp/ipykernel_17196/1908169078.py, line 1)",
     "output_type": "error",
     "traceback": [
      "\u001b[1;36m  File \u001b[1;32m\"C:\\Users\\slymn\\AppData\\Local\\Temp/ipykernel_17196/1908169078.py\"\u001b[1;36m, line \u001b[1;32m1\u001b[0m\n\u001b[1;33m    maasDataFrame2=pd.DataFrame([id_no,isimler,departman,maas],,[\"Id\",\"Isimler\",\"Departman\",\"Maas\"],)\u001b[0m\n\u001b[1;37m                                                               ^\u001b[0m\n\u001b[1;31mSyntaxError\u001b[0m\u001b[1;31m:\u001b[0m invalid syntax\n"
     ]
    }
   ],
   "source": []
  },
  {
   "cell_type": "code",
   "execution_count": 32,
   "id": "300983ab",
   "metadata": {},
   "outputs": [],
   "source": [
    "maasDataFrame=pd.DataFrame(maasSozluk)"
   ]
  },
  {
   "cell_type": "code",
   "execution_count": 33,
   "id": "ad58ac7b",
   "metadata": {},
   "outputs": [
    {
     "data": {
      "text/html": [
       "<div>\n",
       "<style scoped>\n",
       "    .dataframe tbody tr th:only-of-type {\n",
       "        vertical-align: middle;\n",
       "    }\n",
       "\n",
       "    .dataframe tbody tr th {\n",
       "        vertical-align: top;\n",
       "    }\n",
       "\n",
       "    .dataframe thead th {\n",
       "        text-align: right;\n",
       "    }\n",
       "</style>\n",
       "<table border=\"1\" class=\"dataframe\">\n",
       "  <thead>\n",
       "    <tr style=\"text-align: right;\">\n",
       "      <th></th>\n",
       "      <th>Isimler</th>\n",
       "      <th>Departman</th>\n",
       "      <th>Maas</th>\n",
       "    </tr>\n",
       "  </thead>\n",
       "  <tbody>\n",
       "    <tr>\n",
       "      <th>0</th>\n",
       "      <td>Sülo</td>\n",
       "      <td>Yazılım</td>\n",
       "      <td>500</td>\n",
       "    </tr>\n",
       "    <tr>\n",
       "      <th>1</th>\n",
       "      <td>Burak</td>\n",
       "      <td>Satis</td>\n",
       "      <td>200</td>\n",
       "    </tr>\n",
       "    <tr>\n",
       "      <th>2</th>\n",
       "      <td>Mert</td>\n",
       "      <td>Pazarlama</td>\n",
       "      <td>100</td>\n",
       "    </tr>\n",
       "    <tr>\n",
       "      <th>3</th>\n",
       "      <td>Batu</td>\n",
       "      <td>Yazılım</td>\n",
       "      <td>400</td>\n",
       "    </tr>\n",
       "  </tbody>\n",
       "</table>\n",
       "</div>"
      ],
      "text/plain": [
       "  Isimler  Departman  Maas\n",
       "0    Sülo    Yazılım   500\n",
       "1   Burak      Satis   200\n",
       "2    Mert  Pazarlama   100\n",
       "3    Batu    Yazılım   400"
      ]
     },
     "execution_count": 33,
     "metadata": {},
     "output_type": "execute_result"
    }
   ],
   "source": [
    "maasDataFrame"
   ]
  },
  {
   "cell_type": "code",
   "execution_count": 34,
   "id": "6463aae4",
   "metadata": {},
   "outputs": [
    {
     "data": {
      "text/plain": [
       "0      Yazılım\n",
       "1        Satis\n",
       "2    Pazarlama\n",
       "3      Yazılım\n",
       "Name: Departman, dtype: object"
      ]
     },
     "execution_count": 34,
     "metadata": {},
     "output_type": "execute_result"
    }
   ],
   "source": [
    "maasDataFrame[\"Departman\"]"
   ]
  },
  {
   "cell_type": "code",
   "execution_count": 35,
   "id": "768620b8",
   "metadata": {},
   "outputs": [
    {
     "data": {
      "text/plain": [
       "array(['Yazılım', 'Satis', 'Pazarlama'], dtype=object)"
      ]
     },
     "execution_count": 35,
     "metadata": {},
     "output_type": "execute_result"
    }
   ],
   "source": [
    "maasDataFrame[\"Departman\"].unique()"
   ]
  },
  {
   "cell_type": "code",
   "execution_count": 36,
   "id": "43cab10a",
   "metadata": {},
   "outputs": [
    {
     "data": {
      "text/plain": [
       "3"
      ]
     },
     "execution_count": 36,
     "metadata": {},
     "output_type": "execute_result"
    }
   ],
   "source": [
    "maasDataFrame[\"Departman\"].nunique()"
   ]
  },
  {
   "cell_type": "code",
   "execution_count": 37,
   "id": "53eb6bd3",
   "metadata": {},
   "outputs": [
    {
     "data": {
      "text/plain": [
       "Yazılım      2\n",
       "Satis        1\n",
       "Pazarlama    1\n",
       "Name: Departman, dtype: int64"
      ]
     },
     "execution_count": 37,
     "metadata": {},
     "output_type": "execute_result"
    }
   ],
   "source": [
    "maasDataFrame[\"Departman\"].value_counts()"
   ]
  },
  {
   "cell_type": "code",
   "execution_count": 38,
   "id": "75296529",
   "metadata": {},
   "outputs": [],
   "source": [
    "def bruttenNete(maas):\n",
    "    return maas*0.66"
   ]
  },
  {
   "cell_type": "code",
   "execution_count": 39,
   "id": "992cca1c",
   "metadata": {},
   "outputs": [],
   "source": [
    "m=maasDataFrame[\"Maas\"].apply(bruttenNete)"
   ]
  },
  {
   "cell_type": "code",
   "execution_count": 40,
   "id": "f3d4f4b5",
   "metadata": {},
   "outputs": [
    {
     "data": {
      "text/plain": [
       "0    330.0\n",
       "1    132.0\n",
       "2     66.0\n",
       "3    264.0\n",
       "Name: Maas, dtype: float64"
      ]
     },
     "execution_count": 40,
     "metadata": {},
     "output_type": "execute_result"
    }
   ],
   "source": [
    "m"
   ]
  },
  {
   "cell_type": "code",
   "execution_count": 41,
   "id": "c1a422d5",
   "metadata": {},
   "outputs": [
    {
     "data": {
      "text/html": [
       "<div>\n",
       "<style scoped>\n",
       "    .dataframe tbody tr th:only-of-type {\n",
       "        vertical-align: middle;\n",
       "    }\n",
       "\n",
       "    .dataframe tbody tr th {\n",
       "        vertical-align: top;\n",
       "    }\n",
       "\n",
       "    .dataframe thead th {\n",
       "        text-align: right;\n",
       "    }\n",
       "</style>\n",
       "<table border=\"1\" class=\"dataframe\">\n",
       "  <thead>\n",
       "    <tr style=\"text-align: right;\">\n",
       "      <th></th>\n",
       "      <th>Isimler</th>\n",
       "      <th>Departman</th>\n",
       "      <th>Maas</th>\n",
       "    </tr>\n",
       "  </thead>\n",
       "  <tbody>\n",
       "    <tr>\n",
       "      <th>0</th>\n",
       "      <td>False</td>\n",
       "      <td>False</td>\n",
       "      <td>False</td>\n",
       "    </tr>\n",
       "    <tr>\n",
       "      <th>1</th>\n",
       "      <td>False</td>\n",
       "      <td>False</td>\n",
       "      <td>False</td>\n",
       "    </tr>\n",
       "    <tr>\n",
       "      <th>2</th>\n",
       "      <td>False</td>\n",
       "      <td>False</td>\n",
       "      <td>False</td>\n",
       "    </tr>\n",
       "    <tr>\n",
       "      <th>3</th>\n",
       "      <td>False</td>\n",
       "      <td>False</td>\n",
       "      <td>False</td>\n",
       "    </tr>\n",
       "  </tbody>\n",
       "</table>\n",
       "</div>"
      ],
      "text/plain": [
       "   Isimler  Departman   Maas\n",
       "0    False      False  False\n",
       "1    False      False  False\n",
       "2    False      False  False\n",
       "3    False      False  False"
      ]
     },
     "execution_count": 41,
     "metadata": {},
     "output_type": "execute_result"
    }
   ],
   "source": [
    "maasDataFrame.isnull()"
   ]
  },
  {
   "cell_type": "code",
   "execution_count": 53,
   "id": "a5b9e2ce",
   "metadata": {},
   "outputs": [],
   "source": [
    "yeniBirVeri={\"Karakter Sınıfı\":[\"South Park\",\"South Park\",\"Simpson\",\"Simpson\",\"Simpson\"],\n",
    "            \"Karakter Ismi\":[\"Cartman\",\"Kelly\",\"Homer\",\"Bart\",\"Bart\"],\n",
    "             \"Karakter yas\":[9,10,50,20,10]\n",
    "            }"
   ]
  },
  {
   "cell_type": "code",
   "execution_count": 54,
   "id": "1b052981",
   "metadata": {},
   "outputs": [],
   "source": [
    "KarakterDF=pd.DataFrame(yeniBirVeri)"
   ]
  },
  {
   "cell_type": "code",
   "execution_count": 55,
   "id": "832a3ea0",
   "metadata": {},
   "outputs": [
    {
     "data": {
      "text/html": [
       "<div>\n",
       "<style scoped>\n",
       "    .dataframe tbody tr th:only-of-type {\n",
       "        vertical-align: middle;\n",
       "    }\n",
       "\n",
       "    .dataframe tbody tr th {\n",
       "        vertical-align: top;\n",
       "    }\n",
       "\n",
       "    .dataframe thead th {\n",
       "        text-align: right;\n",
       "    }\n",
       "</style>\n",
       "<table border=\"1\" class=\"dataframe\">\n",
       "  <thead>\n",
       "    <tr style=\"text-align: right;\">\n",
       "      <th></th>\n",
       "      <th>Karakter Sınıfı</th>\n",
       "      <th>Karakter Ismi</th>\n",
       "      <th>Karakter yas</th>\n",
       "    </tr>\n",
       "  </thead>\n",
       "  <tbody>\n",
       "    <tr>\n",
       "      <th>0</th>\n",
       "      <td>South Park</td>\n",
       "      <td>Cartman</td>\n",
       "      <td>9</td>\n",
       "    </tr>\n",
       "    <tr>\n",
       "      <th>1</th>\n",
       "      <td>South Park</td>\n",
       "      <td>Kelly</td>\n",
       "      <td>10</td>\n",
       "    </tr>\n",
       "    <tr>\n",
       "      <th>2</th>\n",
       "      <td>Simpson</td>\n",
       "      <td>Homer</td>\n",
       "      <td>50</td>\n",
       "    </tr>\n",
       "    <tr>\n",
       "      <th>3</th>\n",
       "      <td>Simpson</td>\n",
       "      <td>Bart</td>\n",
       "      <td>20</td>\n",
       "    </tr>\n",
       "    <tr>\n",
       "      <th>4</th>\n",
       "      <td>Simpson</td>\n",
       "      <td>Bart</td>\n",
       "      <td>10</td>\n",
       "    </tr>\n",
       "  </tbody>\n",
       "</table>\n",
       "</div>"
      ],
      "text/plain": [
       "  Karakter Sınıfı Karakter Ismi  Karakter yas\n",
       "0      South Park       Cartman             9\n",
       "1      South Park         Kelly            10\n",
       "2         Simpson         Homer            50\n",
       "3         Simpson          Bart            20\n",
       "4         Simpson          Bart            10"
      ]
     },
     "execution_count": 55,
     "metadata": {},
     "output_type": "execute_result"
    }
   ],
   "source": [
    "KarakterDF"
   ]
  },
  {
   "cell_type": "code",
   "execution_count": 57,
   "id": "0abeed64",
   "metadata": {},
   "outputs": [
    {
     "data": {
      "text/html": [
       "<div>\n",
       "<style scoped>\n",
       "    .dataframe tbody tr th:only-of-type {\n",
       "        vertical-align: middle;\n",
       "    }\n",
       "\n",
       "    .dataframe tbody tr th {\n",
       "        vertical-align: top;\n",
       "    }\n",
       "\n",
       "    .dataframe thead th {\n",
       "        text-align: right;\n",
       "    }\n",
       "</style>\n",
       "<table border=\"1\" class=\"dataframe\">\n",
       "  <thead>\n",
       "    <tr style=\"text-align: right;\">\n",
       "      <th></th>\n",
       "      <th></th>\n",
       "      <th>Karakter yas</th>\n",
       "    </tr>\n",
       "    <tr>\n",
       "      <th>Karakter Sınıfı</th>\n",
       "      <th>Karakter Ismi</th>\n",
       "      <th></th>\n",
       "    </tr>\n",
       "  </thead>\n",
       "  <tbody>\n",
       "    <tr>\n",
       "      <th rowspan=\"2\" valign=\"top\">Simpson</th>\n",
       "      <th>Bart</th>\n",
       "      <td>30</td>\n",
       "    </tr>\n",
       "    <tr>\n",
       "      <th>Homer</th>\n",
       "      <td>50</td>\n",
       "    </tr>\n",
       "    <tr>\n",
       "      <th rowspan=\"2\" valign=\"top\">South Park</th>\n",
       "      <th>Cartman</th>\n",
       "      <td>9</td>\n",
       "    </tr>\n",
       "    <tr>\n",
       "      <th>Kelly</th>\n",
       "      <td>10</td>\n",
       "    </tr>\n",
       "  </tbody>\n",
       "</table>\n",
       "</div>"
      ],
      "text/plain": [
       "                               Karakter yas\n",
       "Karakter Sınıfı Karakter Ismi              \n",
       "Simpson         Bart                     30\n",
       "                Homer                    50\n",
       "South Park      Cartman                   9\n",
       "                Kelly                    10"
      ]
     },
     "execution_count": 57,
     "metadata": {},
     "output_type": "execute_result"
    }
   ],
   "source": [
    "KarakterDF.pivot_table(values=\"Karakter yas\",index=[\"Karakter Sınıfı\",\"Karakter Ismi\"],aggfunc=np.sum)"
   ]
  },
  {
   "cell_type": "code",
   "execution_count": null,
   "id": "66e8e2c2",
   "metadata": {},
   "outputs": [],
   "source": []
  }
 ],
 "metadata": {
  "kernelspec": {
   "display_name": "Python 3 (ipykernel)",
   "language": "python",
   "name": "python3"
  },
  "language_info": {
   "codemirror_mode": {
    "name": "ipython",
    "version": 3
   },
   "file_extension": ".py",
   "mimetype": "text/x-python",
   "name": "python",
   "nbconvert_exporter": "python",
   "pygments_lexer": "ipython3",
   "version": "3.9.7"
  }
 },
 "nbformat": 4,
 "nbformat_minor": 5
}
