{
 "cells": [
  {
   "cell_type": "code",
   "execution_count": 8,
   "id": "334cd2c3",
   "metadata": {},
   "outputs": [],
   "source": [
    "import numpy as np"
   ]
  },
  {
   "cell_type": "code",
   "execution_count": 9,
   "id": "35038075",
   "metadata": {},
   "outputs": [],
   "source": [
    "import pandas as pd"
   ]
  },
  {
   "cell_type": "code",
   "execution_count": 10,
   "id": "272f4ca8",
   "metadata": {},
   "outputs": [],
   "source": [
    "ilkIndeksler=[\"oda1\",\"oda1\",\"oda1\",\"oda2\",\"oda2\",\"oda2\"]"
   ]
  },
  {
   "cell_type": "code",
   "execution_count": 11,
   "id": "ae988b2b",
   "metadata": {},
   "outputs": [],
   "source": [
    "icIndeksler=[\"batu\",\"merdo\",\"burak\",\"sülo\",\"çato\",\"mami\"] "
   ]
  },
  {
   "cell_type": "code",
   "execution_count": 12,
   "id": "f94d11e9",
   "metadata": {},
   "outputs": [],
   "source": [
    "birlesmisIndex=list(zip(ilkIndeksler,icIndeksler))"
   ]
  },
  {
   "cell_type": "code",
   "execution_count": 13,
   "id": "378c4590",
   "metadata": {},
   "outputs": [
    {
     "data": {
      "text/plain": [
       "[('oda1', 'batu'),\n",
       " ('oda1', 'merdo'),\n",
       " ('oda1', 'burak'),\n",
       " ('oda2', 'sülo'),\n",
       " ('oda2', 'çato'),\n",
       " ('oda2', 'mami')]"
      ]
     },
     "execution_count": 13,
     "metadata": {},
     "output_type": "execute_result"
    }
   ],
   "source": [
    "birlesmisIndex"
   ]
  },
  {
   "cell_type": "code",
   "execution_count": 14,
   "id": "474d3afc",
   "metadata": {},
   "outputs": [],
   "source": [
    "birlesmisIndex=pd.MultiIndex.from_tuples(birlesmisIndex)"
   ]
  },
  {
   "cell_type": "code",
   "execution_count": 15,
   "id": "92795b52",
   "metadata": {},
   "outputs": [
    {
     "data": {
      "text/plain": [
       "MultiIndex([('oda1',  'batu'),\n",
       "            ('oda1', 'merdo'),\n",
       "            ('oda1', 'burak'),\n",
       "            ('oda2',  'sülo'),\n",
       "            ('oda2',  'çato'),\n",
       "            ('oda2',  'mami')],\n",
       "           )"
      ]
     },
     "execution_count": 15,
     "metadata": {},
     "output_type": "execute_result"
    }
   ],
   "source": [
    "birlesmisIndex"
   ]
  },
  {
   "cell_type": "code",
   "execution_count": 16,
   "id": "5c4dfce2",
   "metadata": {},
   "outputs": [],
   "source": [
    "benimCizgiFilmlistem=[[40,\"A\"],[30,\"B\"],[10,\"C\"],[9,\"D\"],[10,\"E\"],[11,\"F\"]]"
   ]
  },
  {
   "cell_type": "code",
   "execution_count": 17,
   "id": "414bd6c0",
   "metadata": {},
   "outputs": [],
   "source": [
    "cizgiFilmNumpyDizisi=np.array(benimCizgiFilmlistem)"
   ]
  },
  {
   "cell_type": "code",
   "execution_count": 18,
   "id": "785694fc",
   "metadata": {},
   "outputs": [],
   "source": [
    "cizgiFİlmDataFrame=pd.DataFrame(cizgiFilmNumpyDizisi,index=birlesmisIndex,columns=[\"Yas\",\"Meslek\"])"
   ]
  },
  {
   "cell_type": "code",
   "execution_count": 19,
   "id": "0993a784",
   "metadata": {},
   "outputs": [
    {
     "data": {
      "text/html": [
       "<div>\n",
       "<style scoped>\n",
       "    .dataframe tbody tr th:only-of-type {\n",
       "        vertical-align: middle;\n",
       "    }\n",
       "\n",
       "    .dataframe tbody tr th {\n",
       "        vertical-align: top;\n",
       "    }\n",
       "\n",
       "    .dataframe thead th {\n",
       "        text-align: right;\n",
       "    }\n",
       "</style>\n",
       "<table border=\"1\" class=\"dataframe\">\n",
       "  <thead>\n",
       "    <tr style=\"text-align: right;\">\n",
       "      <th></th>\n",
       "      <th></th>\n",
       "      <th>Yas</th>\n",
       "      <th>Meslek</th>\n",
       "    </tr>\n",
       "  </thead>\n",
       "  <tbody>\n",
       "    <tr>\n",
       "      <th rowspan=\"3\" valign=\"top\">oda1</th>\n",
       "      <th>batu</th>\n",
       "      <td>40</td>\n",
       "      <td>A</td>\n",
       "    </tr>\n",
       "    <tr>\n",
       "      <th>merdo</th>\n",
       "      <td>30</td>\n",
       "      <td>B</td>\n",
       "    </tr>\n",
       "    <tr>\n",
       "      <th>burak</th>\n",
       "      <td>10</td>\n",
       "      <td>C</td>\n",
       "    </tr>\n",
       "    <tr>\n",
       "      <th rowspan=\"3\" valign=\"top\">oda2</th>\n",
       "      <th>sülo</th>\n",
       "      <td>9</td>\n",
       "      <td>D</td>\n",
       "    </tr>\n",
       "    <tr>\n",
       "      <th>çato</th>\n",
       "      <td>10</td>\n",
       "      <td>E</td>\n",
       "    </tr>\n",
       "    <tr>\n",
       "      <th>mami</th>\n",
       "      <td>11</td>\n",
       "      <td>F</td>\n",
       "    </tr>\n",
       "  </tbody>\n",
       "</table>\n",
       "</div>"
      ],
      "text/plain": [
       "           Yas Meslek\n",
       "oda1 batu   40      A\n",
       "     merdo  30      B\n",
       "     burak  10      C\n",
       "oda2 sülo    9      D\n",
       "     çato   10      E\n",
       "     mami   11      F"
      ]
     },
     "execution_count": 19,
     "metadata": {},
     "output_type": "execute_result"
    }
   ],
   "source": [
    "cizgiFİlmDataFrame"
   ]
  },
  {
   "cell_type": "code",
   "execution_count": 20,
   "id": "eab014c4",
   "metadata": {
    "scrolled": true
   },
   "outputs": [
    {
     "data": {
      "text/html": [
       "<div>\n",
       "<style scoped>\n",
       "    .dataframe tbody tr th:only-of-type {\n",
       "        vertical-align: middle;\n",
       "    }\n",
       "\n",
       "    .dataframe tbody tr th {\n",
       "        vertical-align: top;\n",
       "    }\n",
       "\n",
       "    .dataframe thead th {\n",
       "        text-align: right;\n",
       "    }\n",
       "</style>\n",
       "<table border=\"1\" class=\"dataframe\">\n",
       "  <thead>\n",
       "    <tr style=\"text-align: right;\">\n",
       "      <th></th>\n",
       "      <th>Yas</th>\n",
       "      <th>Meslek</th>\n",
       "    </tr>\n",
       "  </thead>\n",
       "  <tbody>\n",
       "    <tr>\n",
       "      <th>sülo</th>\n",
       "      <td>9</td>\n",
       "      <td>D</td>\n",
       "    </tr>\n",
       "    <tr>\n",
       "      <th>çato</th>\n",
       "      <td>10</td>\n",
       "      <td>E</td>\n",
       "    </tr>\n",
       "    <tr>\n",
       "      <th>mami</th>\n",
       "      <td>11</td>\n",
       "      <td>F</td>\n",
       "    </tr>\n",
       "  </tbody>\n",
       "</table>\n",
       "</div>"
      ],
      "text/plain": [
       "     Yas Meslek\n",
       "sülo   9      D\n",
       "çato  10      E\n",
       "mami  11      F"
      ]
     },
     "execution_count": 20,
     "metadata": {},
     "output_type": "execute_result"
    }
   ],
   "source": [
    "cizgiFİlmDataFrame.loc[\"oda2\"]"
   ]
  },
  {
   "cell_type": "code",
   "execution_count": 21,
   "id": "bf8373d6",
   "metadata": {},
   "outputs": [
    {
     "data": {
      "text/plain": [
       "Yas       9\n",
       "Meslek    D\n",
       "Name: sülo, dtype: object"
      ]
     },
     "execution_count": 21,
     "metadata": {},
     "output_type": "execute_result"
    }
   ],
   "source": [
    "cizgiFİlmDataFrame.loc[\"oda2\"].loc[\"sülo\"]"
   ]
  },
  {
   "cell_type": "code",
   "execution_count": null,
   "id": "00dee07e",
   "metadata": {},
   "outputs": [],
   "source": []
  },
  {
   "cell_type": "code",
   "execution_count": null,
   "id": "952f8f8c",
   "metadata": {},
   "outputs": [],
   "source": []
  }
 ],
 "metadata": {
  "kernelspec": {
   "display_name": "Python 3 (ipykernel)",
   "language": "python",
   "name": "python3"
  },
  "language_info": {
   "codemirror_mode": {
    "name": "ipython",
    "version": 3
   },
   "file_extension": ".py",
   "mimetype": "text/x-python",
   "name": "python",
   "nbconvert_exporter": "python",
   "pygments_lexer": "ipython3",
   "version": "3.9.7"
  }
 },
 "nbformat": 4,
 "nbformat_minor": 5
}
