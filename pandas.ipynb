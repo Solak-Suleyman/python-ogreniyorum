{
 "cells": [
  {
   "cell_type": "code",
   "execution_count": 1,
   "id": "4f8e19dc-ef23-45bb-8ed0-a18455c642fe",
   "metadata": {},
   "outputs": [],
   "source": [
    "import pandas as pd"
   ]
  },
  {
   "cell_type": "code",
   "execution_count": 2,
   "id": "8d96d876-5a98-4824-b223-422e5f0a8147",
   "metadata": {},
   "outputs": [],
   "source": [
    " import numpy as np"
   ]
  },
  {
   "cell_type": "code",
   "execution_count": 40,
   "id": "c0c585ca-6f9e-41d0-8af0-075c83f18e55",
   "metadata": {},
   "outputs": [],
   "source": [
    "x=['a','b','c','d','e']\n",
    "x2=['a','b','c','d','e']\n",
    "y=[1,2,3,4,5]\n",
    "z={1:'a',2:'b',3:'c',4:'d',6:'e'}"
   ]
  },
  {
   "cell_type": "code",
   "execution_count": 41,
   "id": "3041e5a0-6639-45f4-8c3c-7c2cc96e626e",
   "metadata": {},
   "outputs": [],
   "source": [
    "a=pd.Series(z)"
   ]
  },
  {
   "cell_type": "code",
   "execution_count": 42,
   "id": "134883fe-3920-40f2-9b1f-20e42760d767",
   "metadata": {},
   "outputs": [
    {
     "data": {
      "text/plain": [
       "1    a\n",
       "2    b\n",
       "3    c\n",
       "4    d\n",
       "6    e\n",
       "dtype: object"
      ]
     },
     "execution_count": 42,
     "metadata": {},
     "output_type": "execute_result"
    }
   ],
   "source": [
    "a"
   ]
  },
  {
   "cell_type": "code",
   "execution_count": 43,
   "id": "3fd705de-d410-4fdf-a48e-d841465dd130",
   "metadata": {},
   "outputs": [],
   "source": [
    "b=pd.Series(y,x)"
   ]
  },
  {
   "cell_type": "code",
   "execution_count": 44,
   "id": "984ef5f9-6bff-4856-b124-f53244309ed8",
   "metadata": {},
   "outputs": [
    {
     "data": {
      "text/plain": [
       "a    1\n",
       "b    2\n",
       "c    3\n",
       "d    4\n",
       "e    5\n",
       "dtype: int64"
      ]
     },
     "execution_count": 44,
     "metadata": {},
     "output_type": "execute_result"
    }
   ],
   "source": [
    "b"
   ]
  },
  {
   "cell_type": "code",
   "execution_count": 45,
   "id": "2d96d2b0-cfd1-406b-a878-83c8db48c87d",
   "metadata": {},
   "outputs": [],
   "source": [
    "c=pd.Series(y,x2)"
   ]
  },
  {
   "cell_type": "code",
   "execution_count": 46,
   "id": "97ab8f01-c484-4de5-a63c-60b955438c41",
   "metadata": {},
   "outputs": [
    {
     "data": {
      "text/plain": [
       "a    1\n",
       "b    2\n",
       "c    3\n",
       "d    4\n",
       "e    5\n",
       "dtype: int64"
      ]
     },
     "execution_count": 46,
     "metadata": {},
     "output_type": "execute_result"
    }
   ],
   "source": [
    "c"
   ]
  },
  {
   "cell_type": "code",
   "execution_count": 47,
   "id": "5ad9e239-53d1-4b0f-bd10-4e1e65f76845",
   "metadata": {},
   "outputs": [
    {
     "data": {
      "text/plain": [
       "a     2\n",
       "b     4\n",
       "c     6\n",
       "d     8\n",
       "e    10\n",
       "dtype: int64"
      ]
     },
     "execution_count": 47,
     "metadata": {},
     "output_type": "execute_result"
    }
   ],
   "source": [
    "b+c"
   ]
  },
  {
   "cell_type": "code",
   "execution_count": 52,
   "id": "bc7578e6-cbf8-4a18-88be-a0ab668cf90e",
   "metadata": {},
   "outputs": [
    {
     "data": {
      "text/plain": [
       "c    3\n",
       "d    4\n",
       "e    5\n",
       "dtype: int64"
      ]
     },
     "execution_count": 52,
     "metadata": {},
     "output_type": "execute_result"
    }
   ],
   "source": [
    "c['c':'e']"
   ]
  },
  {
   "cell_type": "code",
   "execution_count": null,
   "id": "483dcf7a-3bd1-4f04-a0d6-f532e63c9356",
   "metadata": {},
   "outputs": [],
   "source": []
  }
 ],
 "metadata": {
  "kernelspec": {
   "display_name": "Python 3 (ipykernel)",
   "language": "python",
   "name": "python3"
  },
  "language_info": {
   "codemirror_mode": {
    "name": "ipython",
    "version": 3
   },
   "file_extension": ".py",
   "mimetype": "text/x-python",
   "name": "python",
   "nbconvert_exporter": "python",
   "pygments_lexer": "ipython3",
   "version": "3.9.7"
  }
 },
 "nbformat": 4,
 "nbformat_minor": 5
}
