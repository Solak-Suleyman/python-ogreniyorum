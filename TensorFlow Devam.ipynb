{
 "cells": [
  {
   "cell_type": "code",
   "execution_count": 1,
   "id": "4e5ea125",
   "metadata": {},
   "outputs": [],
   "source": [
    "import pandas as pd\n",
    "import numpy as np\n",
    "import matplotlib.pyplot as plt\n",
    "import seaborn as sbn"
   ]
  },
  {
   "cell_type": "code",
   "execution_count": 2,
   "id": "a33ec55b",
   "metadata": {},
   "outputs": [],
   "source": [
    "dataFrame=pd.read_excel(\"merc.xlsx\")"
   ]
  },
  {
   "cell_type": "code",
   "execution_count": 3,
   "id": "1e507899",
   "metadata": {},
   "outputs": [
    {
     "data": {
      "text/html": [
       "<div>\n",
       "<style scoped>\n",
       "    .dataframe tbody tr th:only-of-type {\n",
       "        vertical-align: middle;\n",
       "    }\n",
       "\n",
       "    .dataframe tbody tr th {\n",
       "        vertical-align: top;\n",
       "    }\n",
       "\n",
       "    .dataframe thead th {\n",
       "        text-align: right;\n",
       "    }\n",
       "</style>\n",
       "<table border=\"1\" class=\"dataframe\">\n",
       "  <thead>\n",
       "    <tr style=\"text-align: right;\">\n",
       "      <th></th>\n",
       "      <th>year</th>\n",
       "      <th>price</th>\n",
       "      <th>transmission</th>\n",
       "      <th>mileage</th>\n",
       "      <th>tax</th>\n",
       "      <th>mpg</th>\n",
       "      <th>engineSize</th>\n",
       "    </tr>\n",
       "  </thead>\n",
       "  <tbody>\n",
       "    <tr>\n",
       "      <th>0</th>\n",
       "      <td>2005</td>\n",
       "      <td>5200</td>\n",
       "      <td>Automatic</td>\n",
       "      <td>63000</td>\n",
       "      <td>325</td>\n",
       "      <td>32.1</td>\n",
       "      <td>1.8</td>\n",
       "    </tr>\n",
       "    <tr>\n",
       "      <th>1</th>\n",
       "      <td>2017</td>\n",
       "      <td>34948</td>\n",
       "      <td>Automatic</td>\n",
       "      <td>27000</td>\n",
       "      <td>20</td>\n",
       "      <td>61.4</td>\n",
       "      <td>2.1</td>\n",
       "    </tr>\n",
       "    <tr>\n",
       "      <th>2</th>\n",
       "      <td>2016</td>\n",
       "      <td>49948</td>\n",
       "      <td>Automatic</td>\n",
       "      <td>6200</td>\n",
       "      <td>555</td>\n",
       "      <td>28.0</td>\n",
       "      <td>5.5</td>\n",
       "    </tr>\n",
       "    <tr>\n",
       "      <th>3</th>\n",
       "      <td>2016</td>\n",
       "      <td>61948</td>\n",
       "      <td>Automatic</td>\n",
       "      <td>16000</td>\n",
       "      <td>325</td>\n",
       "      <td>30.4</td>\n",
       "      <td>4.0</td>\n",
       "    </tr>\n",
       "    <tr>\n",
       "      <th>4</th>\n",
       "      <td>2016</td>\n",
       "      <td>73948</td>\n",
       "      <td>Automatic</td>\n",
       "      <td>4000</td>\n",
       "      <td>325</td>\n",
       "      <td>30.1</td>\n",
       "      <td>4.0</td>\n",
       "    </tr>\n",
       "  </tbody>\n",
       "</table>\n",
       "</div>"
      ],
      "text/plain": [
       "   year  price transmission  mileage  tax   mpg  engineSize\n",
       "0  2005   5200    Automatic    63000  325  32.1         1.8\n",
       "1  2017  34948    Automatic    27000   20  61.4         2.1\n",
       "2  2016  49948    Automatic     6200  555  28.0         5.5\n",
       "3  2016  61948    Automatic    16000  325  30.4         4.0\n",
       "4  2016  73948    Automatic     4000  325  30.1         4.0"
      ]
     },
     "execution_count": 3,
     "metadata": {},
     "output_type": "execute_result"
    }
   ],
   "source": [
    "dataFrame.head()"
   ]
  },
  {
   "cell_type": "code",
   "execution_count": 4,
   "id": "67869b1d",
   "metadata": {},
   "outputs": [
    {
     "data": {
      "text/html": [
       "<div>\n",
       "<style scoped>\n",
       "    .dataframe tbody tr th:only-of-type {\n",
       "        vertical-align: middle;\n",
       "    }\n",
       "\n",
       "    .dataframe tbody tr th {\n",
       "        vertical-align: top;\n",
       "    }\n",
       "\n",
       "    .dataframe thead th {\n",
       "        text-align: right;\n",
       "    }\n",
       "</style>\n",
       "<table border=\"1\" class=\"dataframe\">\n",
       "  <thead>\n",
       "    <tr style=\"text-align: right;\">\n",
       "      <th></th>\n",
       "      <th>year</th>\n",
       "      <th>price</th>\n",
       "      <th>mileage</th>\n",
       "      <th>tax</th>\n",
       "      <th>mpg</th>\n",
       "      <th>engineSize</th>\n",
       "    </tr>\n",
       "  </thead>\n",
       "  <tbody>\n",
       "    <tr>\n",
       "      <th>count</th>\n",
       "      <td>13119.000000</td>\n",
       "      <td>13119.000000</td>\n",
       "      <td>13119.000000</td>\n",
       "      <td>13119.000000</td>\n",
       "      <td>13119.000000</td>\n",
       "      <td>13119.000000</td>\n",
       "    </tr>\n",
       "    <tr>\n",
       "      <th>mean</th>\n",
       "      <td>2017.296288</td>\n",
       "      <td>24698.596920</td>\n",
       "      <td>21949.559037</td>\n",
       "      <td>129.972178</td>\n",
       "      <td>55.155843</td>\n",
       "      <td>2.071530</td>\n",
       "    </tr>\n",
       "    <tr>\n",
       "      <th>std</th>\n",
       "      <td>2.224709</td>\n",
       "      <td>11842.675542</td>\n",
       "      <td>21176.512267</td>\n",
       "      <td>65.260286</td>\n",
       "      <td>15.220082</td>\n",
       "      <td>0.572426</td>\n",
       "    </tr>\n",
       "    <tr>\n",
       "      <th>min</th>\n",
       "      <td>1970.000000</td>\n",
       "      <td>650.000000</td>\n",
       "      <td>1.000000</td>\n",
       "      <td>0.000000</td>\n",
       "      <td>1.100000</td>\n",
       "      <td>0.000000</td>\n",
       "    </tr>\n",
       "    <tr>\n",
       "      <th>25%</th>\n",
       "      <td>2016.000000</td>\n",
       "      <td>17450.000000</td>\n",
       "      <td>6097.500000</td>\n",
       "      <td>125.000000</td>\n",
       "      <td>45.600000</td>\n",
       "      <td>1.800000</td>\n",
       "    </tr>\n",
       "    <tr>\n",
       "      <th>50%</th>\n",
       "      <td>2018.000000</td>\n",
       "      <td>22480.000000</td>\n",
       "      <td>15189.000000</td>\n",
       "      <td>145.000000</td>\n",
       "      <td>56.500000</td>\n",
       "      <td>2.000000</td>\n",
       "    </tr>\n",
       "    <tr>\n",
       "      <th>75%</th>\n",
       "      <td>2019.000000</td>\n",
       "      <td>28980.000000</td>\n",
       "      <td>31779.500000</td>\n",
       "      <td>145.000000</td>\n",
       "      <td>64.200000</td>\n",
       "      <td>2.100000</td>\n",
       "    </tr>\n",
       "    <tr>\n",
       "      <th>max</th>\n",
       "      <td>2020.000000</td>\n",
       "      <td>159999.000000</td>\n",
       "      <td>259000.000000</td>\n",
       "      <td>580.000000</td>\n",
       "      <td>217.300000</td>\n",
       "      <td>6.200000</td>\n",
       "    </tr>\n",
       "  </tbody>\n",
       "</table>\n",
       "</div>"
      ],
      "text/plain": [
       "               year          price        mileage           tax           mpg  \\\n",
       "count  13119.000000   13119.000000   13119.000000  13119.000000  13119.000000   \n",
       "mean    2017.296288   24698.596920   21949.559037    129.972178     55.155843   \n",
       "std        2.224709   11842.675542   21176.512267     65.260286     15.220082   \n",
       "min     1970.000000     650.000000       1.000000      0.000000      1.100000   \n",
       "25%     2016.000000   17450.000000    6097.500000    125.000000     45.600000   \n",
       "50%     2018.000000   22480.000000   15189.000000    145.000000     56.500000   \n",
       "75%     2019.000000   28980.000000   31779.500000    145.000000     64.200000   \n",
       "max     2020.000000  159999.000000  259000.000000    580.000000    217.300000   \n",
       "\n",
       "         engineSize  \n",
       "count  13119.000000  \n",
       "mean       2.071530  \n",
       "std        0.572426  \n",
       "min        0.000000  \n",
       "25%        1.800000  \n",
       "50%        2.000000  \n",
       "75%        2.100000  \n",
       "max        6.200000  "
      ]
     },
     "execution_count": 4,
     "metadata": {},
     "output_type": "execute_result"
    }
   ],
   "source": [
    "dataFrame.describe()"
   ]
  },
  {
   "cell_type": "code",
   "execution_count": 5,
   "id": "58c5439f",
   "metadata": {},
   "outputs": [
    {
     "data": {
      "text/plain": [
       "year            0\n",
       "price           0\n",
       "transmission    0\n",
       "mileage         0\n",
       "tax             0\n",
       "mpg             0\n",
       "engineSize      0\n",
       "dtype: int64"
      ]
     },
     "execution_count": 5,
     "metadata": {},
     "output_type": "execute_result"
    }
   ],
   "source": [
    "dataFrame.isnull().sum()"
   ]
  },
  {
   "cell_type": "code",
   "execution_count": 6,
   "id": "5732d2be",
   "metadata": {
    "scrolled": false
   },
   "outputs": [
    {
     "name": "stderr",
     "output_type": "stream",
     "text": [
      "C:\\Users\\slymn\\anaconda3\\lib\\site-packages\\seaborn\\distributions.py:2619: FutureWarning: `distplot` is a deprecated function and will be removed in a future version. Please adapt your code to use either `displot` (a figure-level function with similar flexibility) or `histplot` (an axes-level function for histograms).\n",
      "  warnings.warn(msg, FutureWarning)\n"
     ]
    },
    {
     "data": {
      "text/plain": [
       "<AxesSubplot:xlabel='price', ylabel='Density'>"
      ]
     },
     "execution_count": 6,
     "metadata": {},
     "output_type": "execute_result"
    },
    {
     "data": {
      "image/png": "[encoded data removed]",
      "text/plain": [
       "<Figure size 576x360 with 1 Axes>"
      ]
     },
     "metadata": {
      "needs_background": "light"
     },
     "output_type": "display_data"
    }
   ],
   "source": [
    "plt.figure(figsize=(8,5))\n",
    "sbn.distplot(dataFrame[\"price\"])"
   ]
  },
  {
   "cell_type": "code",
   "execution_count": 7,
   "id": "71365d38",
   "metadata": {},
   "outputs": [
    {
     "name": "stderr",
     "output_type": "stream",
     "text": [
      "C:\\Users\\slymn\\anaconda3\\lib\\site-packages\\seaborn\\_decorators.py:36: FutureWarning: Pass the following variable as a keyword arg: x. From version 0.12, the only valid positional argument will be `data`, and passing other arguments without an explicit keyword will result in an error or misinterpretation.\n",
      "  warnings.warn(\n"
     ]
    },
    {
     "data": {
      "text/plain": [
       "<AxesSubplot:xlabel='year', ylabel='count'>"
      ]
     },
     "execution_count": 7,
     "metadata": {},
     "output_type": "execute_result"
    },
    {
     "data": {
      "image/png": "[encoded data removed]",
      "text/plain": [
       "<Figure size 1080x360 with 1 Axes>"
      ]
     },
     "metadata": {
      "needs_background": "light"
     },
     "output_type": "display_data"
    }
   ],
   "source": [
    "plt.figure(figsize=(15,5))\n",
    "sbn.countplot(dataFrame[\"year\"])"
   ]
  },
  {
   "cell_type": "code",
   "execution_count": 8,
   "id": "81a61355",
   "metadata": {},
   "outputs": [
    {
     "data": {
      "text/html": [
       "<div>\n",
       "<style scoped>\n",
       "    .dataframe tbody tr th:only-of-type {\n",
       "        vertical-align: middle;\n",
       "    }\n",
       "\n",
       "    .dataframe tbody tr th {\n",
       "        vertical-align: top;\n",
       "    }\n",
       "\n",
       "    .dataframe thead th {\n",
       "        text-align: right;\n",
       "    }\n",
       "</style>\n",
       "<table border=\"1\" class=\"dataframe\">\n",
       "  <thead>\n",
       "    <tr style=\"text-align: right;\">\n",
       "      <th></th>\n",
       "      <th>year</th>\n",
       "      <th>price</th>\n",
       "      <th>mileage</th>\n",
       "      <th>tax</th>\n",
       "      <th>mpg</th>\n",
       "      <th>engineSize</th>\n",
       "    </tr>\n",
       "  </thead>\n",
       "  <tbody>\n",
       "    <tr>\n",
       "      <th>year</th>\n",
       "      <td>1.000000</td>\n",
       "      <td>0.520712</td>\n",
       "      <td>-0.738027</td>\n",
       "      <td>0.012480</td>\n",
       "      <td>-0.094626</td>\n",
       "      <td>-0.142147</td>\n",
       "    </tr>\n",
       "    <tr>\n",
       "      <th>price</th>\n",
       "      <td>0.520712</td>\n",
       "      <td>1.000000</td>\n",
       "      <td>-0.537214</td>\n",
       "      <td>0.268717</td>\n",
       "      <td>-0.438445</td>\n",
       "      <td>0.516126</td>\n",
       "    </tr>\n",
       "    <tr>\n",
       "      <th>mileage</th>\n",
       "      <td>-0.738027</td>\n",
       "      <td>-0.537214</td>\n",
       "      <td>1.000000</td>\n",
       "      <td>-0.160223</td>\n",
       "      <td>0.202850</td>\n",
       "      <td>0.063652</td>\n",
       "    </tr>\n",
       "    <tr>\n",
       "      <th>tax</th>\n",
       "      <td>0.012480</td>\n",
       "      <td>0.268717</td>\n",
       "      <td>-0.160223</td>\n",
       "      <td>1.000000</td>\n",
       "      <td>-0.513742</td>\n",
       "      <td>0.338341</td>\n",
       "    </tr>\n",
       "    <tr>\n",
       "      <th>mpg</th>\n",
       "      <td>-0.094626</td>\n",
       "      <td>-0.438445</td>\n",
       "      <td>0.202850</td>\n",
       "      <td>-0.513742</td>\n",
       "      <td>1.000000</td>\n",
       "      <td>-0.339862</td>\n",
       "    </tr>\n",
       "    <tr>\n",
       "      <th>engineSize</th>\n",
       "      <td>-0.142147</td>\n",
       "      <td>0.516126</td>\n",
       "      <td>0.063652</td>\n",
       "      <td>0.338341</td>\n",
       "      <td>-0.339862</td>\n",
       "      <td>1.000000</td>\n",
       "    </tr>\n",
       "  </tbody>\n",
       "</table>\n",
       "</div>"
      ],
      "text/plain": [
       "                year     price   mileage       tax       mpg  engineSize\n",
       "year        1.000000  0.520712 -0.738027  0.012480 -0.094626   -0.142147\n",
       "price       0.520712  1.000000 -0.537214  0.268717 -0.438445    0.516126\n",
       "mileage    -0.738027 -0.537214  1.000000 -0.160223  0.202850    0.063652\n",
       "tax         0.012480  0.268717 -0.160223  1.000000 -0.513742    0.338341\n",
       "mpg        -0.094626 -0.438445  0.202850 -0.513742  1.000000   -0.339862\n",
       "engineSize -0.142147  0.516126  0.063652  0.338341 -0.339862    1.000000"
      ]
     },
     "execution_count": 8,
     "metadata": {},
     "output_type": "execute_result"
    }
   ],
   "source": [
    "dataFrame.corr()"
   ]
  },
  {
   "cell_type": "code",
   "execution_count": 9,
   "id": "f1a6a10a",
   "metadata": {},
   "outputs": [
    {
     "data": {
      "text/plain": [
       "mileage      -0.537214\n",
       "mpg          -0.438445\n",
       "tax           0.268717\n",
       "engineSize    0.516126\n",
       "year          0.520712\n",
       "price         1.000000\n",
       "Name: price, dtype: float64"
      ]
     },
     "execution_count": 9,
     "metadata": {},
     "output_type": "execute_result"
    }
   ],
   "source": [
    "dataFrame.corr()[\"price\"].sort_values()"
   ]
  },
  {
   "cell_type": "code",
   "execution_count": 10,
   "id": "712bdee7",
   "metadata": {},
   "outputs": [
    {
     "data": {
      "text/plain": [
       "<AxesSubplot:xlabel='mileage', ylabel='price'>"
      ]
     },
     "execution_count": 10,
     "metadata": {},
     "output_type": "execute_result"
    },
    {
     "data": {
      "image/png": "[encoded data removed]",
      "text/plain": [
       "<Figure size 432x288 with 1 Axes>"
      ]
     },
     "metadata": {
      "needs_background": "light"
     },
     "output_type": "display_data"
    }
   ],
   "source": [
    "sbn.scatterplot(x=\"mileage\",y=\"price\",data=dataFrame)"
   ]
  },
  {
   "cell_type": "code",
   "execution_count": 11,
   "id": "3cec3373",
   "metadata": {},
   "outputs": [
    {
     "data": {
      "text/plain": [
       "<AxesSubplot:xlabel='year', ylabel='price'>"
      ]
     },
     "execution_count": 11,
     "metadata": {},
     "output_type": "execute_result"
    },
    {
     "data": {
      "image/png": "[encoded data removed]",
      "text/plain": [
       "<Figure size 432x288 with 1 Axes>"
      ]
     },
     "metadata": {
      "needs_background": "light"
     },
     "output_type": "display_data"
    }
   ],
   "source": [
    "sbn.scatterplot(x=\"year\",y=\"price\",data=dataFrame)"
   ]
  },
  {
   "cell_type": "code",
   "execution_count": 12,
   "id": "d693ac50",
   "metadata": {},
   "outputs": [
    {
     "data": {
      "text/html": [
       "<div>\n",
       "<style scoped>\n",
       "    .dataframe tbody tr th:only-of-type {\n",
       "        vertical-align: middle;\n",
       "    }\n",
       "\n",
       "    .dataframe tbody tr th {\n",
       "        vertical-align: top;\n",
       "    }\n",
       "\n",
       "    .dataframe thead th {\n",
       "        text-align: right;\n",
       "    }\n",
       "</style>\n",
       "<table border=\"1\" class=\"dataframe\">\n",
       "  <thead>\n",
       "    <tr style=\"text-align: right;\">\n",
       "      <th></th>\n",
       "      <th>year</th>\n",
       "      <th>price</th>\n",
       "      <th>transmission</th>\n",
       "      <th>mileage</th>\n",
       "      <th>tax</th>\n",
       "      <th>mpg</th>\n",
       "      <th>engineSize</th>\n",
       "    </tr>\n",
       "  </thead>\n",
       "  <tbody>\n",
       "    <tr>\n",
       "      <th>6199</th>\n",
       "      <td>2020</td>\n",
       "      <td>159999</td>\n",
       "      <td>Semi-Auto</td>\n",
       "      <td>1350</td>\n",
       "      <td>145</td>\n",
       "      <td>21.4</td>\n",
       "      <td>4.0</td>\n",
       "    </tr>\n",
       "    <tr>\n",
       "      <th>10044</th>\n",
       "      <td>2020</td>\n",
       "      <td>154998</td>\n",
       "      <td>Automatic</td>\n",
       "      <td>3000</td>\n",
       "      <td>150</td>\n",
       "      <td>21.4</td>\n",
       "      <td>4.0</td>\n",
       "    </tr>\n",
       "    <tr>\n",
       "      <th>5</th>\n",
       "      <td>2011</td>\n",
       "      <td>149948</td>\n",
       "      <td>Automatic</td>\n",
       "      <td>3000</td>\n",
       "      <td>570</td>\n",
       "      <td>21.4</td>\n",
       "      <td>6.2</td>\n",
       "    </tr>\n",
       "    <tr>\n",
       "      <th>8737</th>\n",
       "      <td>2019</td>\n",
       "      <td>140319</td>\n",
       "      <td>Semi-Auto</td>\n",
       "      <td>785</td>\n",
       "      <td>150</td>\n",
       "      <td>22.1</td>\n",
       "      <td>4.0</td>\n",
       "    </tr>\n",
       "    <tr>\n",
       "      <th>6386</th>\n",
       "      <td>2018</td>\n",
       "      <td>139995</td>\n",
       "      <td>Semi-Auto</td>\n",
       "      <td>13046</td>\n",
       "      <td>145</td>\n",
       "      <td>21.4</td>\n",
       "      <td>4.0</td>\n",
       "    </tr>\n",
       "    <tr>\n",
       "      <th>8</th>\n",
       "      <td>2019</td>\n",
       "      <td>139948</td>\n",
       "      <td>Automatic</td>\n",
       "      <td>12000</td>\n",
       "      <td>145</td>\n",
       "      <td>21.4</td>\n",
       "      <td>4.0</td>\n",
       "    </tr>\n",
       "    <tr>\n",
       "      <th>9133</th>\n",
       "      <td>2019</td>\n",
       "      <td>139559</td>\n",
       "      <td>Semi-Auto</td>\n",
       "      <td>1000</td>\n",
       "      <td>145</td>\n",
       "      <td>22.1</td>\n",
       "      <td>4.0</td>\n",
       "    </tr>\n",
       "    <tr>\n",
       "      <th>8821</th>\n",
       "      <td>2020</td>\n",
       "      <td>138439</td>\n",
       "      <td>Semi-Auto</td>\n",
       "      <td>1000</td>\n",
       "      <td>145</td>\n",
       "      <td>22.1</td>\n",
       "      <td>4.0</td>\n",
       "    </tr>\n",
       "    <tr>\n",
       "      <th>5902</th>\n",
       "      <td>2018</td>\n",
       "      <td>135771</td>\n",
       "      <td>Semi-Auto</td>\n",
       "      <td>19000</td>\n",
       "      <td>145</td>\n",
       "      <td>21.4</td>\n",
       "      <td>4.0</td>\n",
       "    </tr>\n",
       "    <tr>\n",
       "      <th>7864</th>\n",
       "      <td>2018</td>\n",
       "      <td>135124</td>\n",
       "      <td>Semi-Auto</td>\n",
       "      <td>18234</td>\n",
       "      <td>150</td>\n",
       "      <td>21.4</td>\n",
       "      <td>4.0</td>\n",
       "    </tr>\n",
       "    <tr>\n",
       "      <th>8673</th>\n",
       "      <td>2019</td>\n",
       "      <td>134219</td>\n",
       "      <td>Semi-Auto</td>\n",
       "      <td>1000</td>\n",
       "      <td>145</td>\n",
       "      <td>24.8</td>\n",
       "      <td>4.0</td>\n",
       "    </tr>\n",
       "    <tr>\n",
       "      <th>6210</th>\n",
       "      <td>2019</td>\n",
       "      <td>129990</td>\n",
       "      <td>Automatic</td>\n",
       "      <td>1000</td>\n",
       "      <td>145</td>\n",
       "      <td>24.8</td>\n",
       "      <td>4.0</td>\n",
       "    </tr>\n",
       "    <tr>\n",
       "      <th>4759</th>\n",
       "      <td>2019</td>\n",
       "      <td>126000</td>\n",
       "      <td>Automatic</td>\n",
       "      <td>250</td>\n",
       "      <td>145</td>\n",
       "      <td>24.6</td>\n",
       "      <td>4.0</td>\n",
       "    </tr>\n",
       "    <tr>\n",
       "      <th>2647</th>\n",
       "      <td>2019</td>\n",
       "      <td>125796</td>\n",
       "      <td>Automatic</td>\n",
       "      <td>637</td>\n",
       "      <td>145</td>\n",
       "      <td>24.8</td>\n",
       "      <td>4.0</td>\n",
       "    </tr>\n",
       "    <tr>\n",
       "      <th>6223</th>\n",
       "      <td>2019</td>\n",
       "      <td>124999</td>\n",
       "      <td>Automatic</td>\n",
       "      <td>1500</td>\n",
       "      <td>145</td>\n",
       "      <td>31.7</td>\n",
       "      <td>4.0</td>\n",
       "    </tr>\n",
       "    <tr>\n",
       "      <th>4094</th>\n",
       "      <td>2019</td>\n",
       "      <td>124366</td>\n",
       "      <td>Semi-Auto</td>\n",
       "      <td>880</td>\n",
       "      <td>145</td>\n",
       "      <td>24.8</td>\n",
       "      <td>4.0</td>\n",
       "    </tr>\n",
       "    <tr>\n",
       "      <th>2629</th>\n",
       "      <td>2019</td>\n",
       "      <td>123846</td>\n",
       "      <td>Semi-Auto</td>\n",
       "      <td>2951</td>\n",
       "      <td>145</td>\n",
       "      <td>22.1</td>\n",
       "      <td>4.0</td>\n",
       "    </tr>\n",
       "    <tr>\n",
       "      <th>7134</th>\n",
       "      <td>2019</td>\n",
       "      <td>115359</td>\n",
       "      <td>Semi-Auto</td>\n",
       "      <td>1000</td>\n",
       "      <td>145</td>\n",
       "      <td>30.1</td>\n",
       "      <td>4.0</td>\n",
       "    </tr>\n",
       "    <tr>\n",
       "      <th>9159</th>\n",
       "      <td>2019</td>\n",
       "      <td>114199</td>\n",
       "      <td>Semi-Auto</td>\n",
       "      <td>891</td>\n",
       "      <td>145</td>\n",
       "      <td>22.6</td>\n",
       "      <td>4.0</td>\n",
       "    </tr>\n",
       "    <tr>\n",
       "      <th>1980</th>\n",
       "      <td>2019</td>\n",
       "      <td>109995</td>\n",
       "      <td>Semi-Auto</td>\n",
       "      <td>4688</td>\n",
       "      <td>150</td>\n",
       "      <td>31.7</td>\n",
       "      <td>4.0</td>\n",
       "    </tr>\n",
       "  </tbody>\n",
       "</table>\n",
       "</div>"
      ],
      "text/plain": [
       "       year   price transmission  mileage  tax   mpg  engineSize\n",
       "6199   2020  159999    Semi-Auto     1350  145  21.4         4.0\n",
       "10044  2020  154998    Automatic     3000  150  21.4         4.0\n",
       "5      2011  149948    Automatic     3000  570  21.4         6.2\n",
       "8737   2019  140319    Semi-Auto      785  150  22.1         4.0\n",
       "6386   2018  139995    Semi-Auto    13046  145  21.4         4.0\n",
       "8      2019  139948    Automatic    12000  145  21.4         4.0\n",
       "9133   2019  139559    Semi-Auto     1000  145  22.1         4.0\n",
       "8821   2020  138439    Semi-Auto     1000  145  22.1         4.0\n",
       "5902   2018  135771    Semi-Auto    19000  145  21.4         4.0\n",
       "7864   2018  135124    Semi-Auto    18234  150  21.4         4.0\n",
       "8673   2019  134219    Semi-Auto     1000  145  24.8         4.0\n",
       "6210   2019  129990    Automatic     1000  145  24.8         4.0\n",
       "4759   2019  126000    Automatic      250  145  24.6         4.0\n",
       "2647   2019  125796    Automatic      637  145  24.8         4.0\n",
       "6223   2019  124999    Automatic     1500  145  31.7         4.0\n",
       "4094   2019  124366    Semi-Auto      880  145  24.8         4.0\n",
       "2629   2019  123846    Semi-Auto     2951  145  22.1         4.0\n",
       "7134   2019  115359    Semi-Auto     1000  145  30.1         4.0\n",
       "9159   2019  114199    Semi-Auto      891  145  22.6         4.0\n",
       "1980   2019  109995    Semi-Auto     4688  150  31.7         4.0"
      ]
     },
     "execution_count": 12,
     "metadata": {},
     "output_type": "execute_result"
    }
   ],
   "source": [
    "dataFrame.sort_values(\"price\",ascending=False).head(20)"
   ]
  },
  {
   "cell_type": "code",
   "execution_count": 13,
   "id": "dee0eb23",
   "metadata": {},
   "outputs": [
    {
     "data": {
      "text/html": [
       "<div>\n",
       "<style scoped>\n",
       "    .dataframe tbody tr th:only-of-type {\n",
       "        vertical-align: middle;\n",
       "    }\n",
       "\n",
       "    .dataframe tbody tr th {\n",
       "        vertical-align: top;\n",
       "    }\n",
       "\n",
       "    .dataframe thead th {\n",
       "        text-align: right;\n",
       "    }\n",
       "</style>\n",
       "<table border=\"1\" class=\"dataframe\">\n",
       "  <thead>\n",
       "    <tr style=\"text-align: right;\">\n",
       "      <th></th>\n",
       "      <th>year</th>\n",
       "      <th>price</th>\n",
       "      <th>transmission</th>\n",
       "      <th>mileage</th>\n",
       "      <th>tax</th>\n",
       "      <th>mpg</th>\n",
       "      <th>engineSize</th>\n",
       "    </tr>\n",
       "  </thead>\n",
       "  <tbody>\n",
       "    <tr>\n",
       "      <th>11816</th>\n",
       "      <td>2003</td>\n",
       "      <td>650</td>\n",
       "      <td>Manual</td>\n",
       "      <td>109090</td>\n",
       "      <td>235</td>\n",
       "      <td>40.0</td>\n",
       "      <td>1.4</td>\n",
       "    </tr>\n",
       "    <tr>\n",
       "      <th>12008</th>\n",
       "      <td>2010</td>\n",
       "      <td>1350</td>\n",
       "      <td>Manual</td>\n",
       "      <td>116126</td>\n",
       "      <td>145</td>\n",
       "      <td>54.3</td>\n",
       "      <td>2.0</td>\n",
       "    </tr>\n",
       "    <tr>\n",
       "      <th>11765</th>\n",
       "      <td>2000</td>\n",
       "      <td>1490</td>\n",
       "      <td>Automatic</td>\n",
       "      <td>87000</td>\n",
       "      <td>265</td>\n",
       "      <td>27.2</td>\n",
       "      <td>3.2</td>\n",
       "    </tr>\n",
       "    <tr>\n",
       "      <th>11549</th>\n",
       "      <td>2002</td>\n",
       "      <td>1495</td>\n",
       "      <td>Automatic</td>\n",
       "      <td>13800</td>\n",
       "      <td>305</td>\n",
       "      <td>39.8</td>\n",
       "      <td>2.7</td>\n",
       "    </tr>\n",
       "    <tr>\n",
       "      <th>12594</th>\n",
       "      <td>2004</td>\n",
       "      <td>1495</td>\n",
       "      <td>Manual</td>\n",
       "      <td>119000</td>\n",
       "      <td>300</td>\n",
       "      <td>34.5</td>\n",
       "      <td>1.8</td>\n",
       "    </tr>\n",
       "    <tr>\n",
       "      <th>11174</th>\n",
       "      <td>2001</td>\n",
       "      <td>1695</td>\n",
       "      <td>Automatic</td>\n",
       "      <td>108800</td>\n",
       "      <td>325</td>\n",
       "      <td>31.7</td>\n",
       "      <td>3.2</td>\n",
       "    </tr>\n",
       "    <tr>\n",
       "      <th>12710</th>\n",
       "      <td>2006</td>\n",
       "      <td>1695</td>\n",
       "      <td>Automatic</td>\n",
       "      <td>153000</td>\n",
       "      <td>300</td>\n",
       "      <td>33.6</td>\n",
       "      <td>1.8</td>\n",
       "    </tr>\n",
       "    <tr>\n",
       "      <th>12766</th>\n",
       "      <td>2004</td>\n",
       "      <td>1780</td>\n",
       "      <td>Automatic</td>\n",
       "      <td>118000</td>\n",
       "      <td>265</td>\n",
       "      <td>41.5</td>\n",
       "      <td>2.2</td>\n",
       "    </tr>\n",
       "    <tr>\n",
       "      <th>12009</th>\n",
       "      <td>2007</td>\n",
       "      <td>1800</td>\n",
       "      <td>Automatic</td>\n",
       "      <td>84000</td>\n",
       "      <td>200</td>\n",
       "      <td>42.8</td>\n",
       "      <td>1.5</td>\n",
       "    </tr>\n",
       "    <tr>\n",
       "      <th>11764</th>\n",
       "      <td>1998</td>\n",
       "      <td>1990</td>\n",
       "      <td>Automatic</td>\n",
       "      <td>99300</td>\n",
       "      <td>265</td>\n",
       "      <td>32.1</td>\n",
       "      <td>2.3</td>\n",
       "    </tr>\n",
       "    <tr>\n",
       "      <th>11808</th>\n",
       "      <td>1998</td>\n",
       "      <td>1990</td>\n",
       "      <td>Automatic</td>\n",
       "      <td>113557</td>\n",
       "      <td>265</td>\n",
       "      <td>32.1</td>\n",
       "      <td>2.3</td>\n",
       "    </tr>\n",
       "    <tr>\n",
       "      <th>11383</th>\n",
       "      <td>2005</td>\n",
       "      <td>1995</td>\n",
       "      <td>Automatic</td>\n",
       "      <td>105000</td>\n",
       "      <td>260</td>\n",
       "      <td>43.5</td>\n",
       "      <td>2.1</td>\n",
       "    </tr>\n",
       "    <tr>\n",
       "      <th>11378</th>\n",
       "      <td>2004</td>\n",
       "      <td>1995</td>\n",
       "      <td>Semi-Auto</td>\n",
       "      <td>165000</td>\n",
       "      <td>330</td>\n",
       "      <td>20.0</td>\n",
       "      <td>3.7</td>\n",
       "    </tr>\n",
       "    <tr>\n",
       "      <th>11857</th>\n",
       "      <td>2002</td>\n",
       "      <td>2140</td>\n",
       "      <td>Automatic</td>\n",
       "      <td>52700</td>\n",
       "      <td>325</td>\n",
       "      <td>31.4</td>\n",
       "      <td>2.0</td>\n",
       "    </tr>\n",
       "    <tr>\n",
       "      <th>11906</th>\n",
       "      <td>2007</td>\n",
       "      <td>2478</td>\n",
       "      <td>Automatic</td>\n",
       "      <td>81000</td>\n",
       "      <td>160</td>\n",
       "      <td>49.6</td>\n",
       "      <td>2.0</td>\n",
       "    </tr>\n",
       "    <tr>\n",
       "      <th>11795</th>\n",
       "      <td>2005</td>\n",
       "      <td>2490</td>\n",
       "      <td>Automatic</td>\n",
       "      <td>101980</td>\n",
       "      <td>200</td>\n",
       "      <td>47.9</td>\n",
       "      <td>2.0</td>\n",
       "    </tr>\n",
       "    <tr>\n",
       "      <th>12765</th>\n",
       "      <td>2004</td>\n",
       "      <td>2495</td>\n",
       "      <td>Automatic</td>\n",
       "      <td>104000</td>\n",
       "      <td>325</td>\n",
       "      <td>31.7</td>\n",
       "      <td>1.8</td>\n",
       "    </tr>\n",
       "    <tr>\n",
       "      <th>11943</th>\n",
       "      <td>2005</td>\n",
       "      <td>2690</td>\n",
       "      <td>Automatic</td>\n",
       "      <td>109000</td>\n",
       "      <td>325</td>\n",
       "      <td>32.1</td>\n",
       "      <td>1.8</td>\n",
       "    </tr>\n",
       "    <tr>\n",
       "      <th>11263</th>\n",
       "      <td>2007</td>\n",
       "      <td>2795</td>\n",
       "      <td>Manual</td>\n",
       "      <td>79485</td>\n",
       "      <td>200</td>\n",
       "      <td>45.6</td>\n",
       "      <td>1.5</td>\n",
       "    </tr>\n",
       "    <tr>\n",
       "      <th>49</th>\n",
       "      <td>2006</td>\n",
       "      <td>2880</td>\n",
       "      <td>Automatic</td>\n",
       "      <td>66000</td>\n",
       "      <td>160</td>\n",
       "      <td>52.3</td>\n",
       "      <td>2.0</td>\n",
       "    </tr>\n",
       "  </tbody>\n",
       "</table>\n",
       "</div>"
      ],
      "text/plain": [
       "       year  price transmission  mileage  tax   mpg  engineSize\n",
       "11816  2003    650       Manual   109090  235  40.0         1.4\n",
       "12008  2010   1350       Manual   116126  145  54.3         2.0\n",
       "11765  2000   1490    Automatic    87000  265  27.2         3.2\n",
       "11549  2002   1495    Automatic    13800  305  39.8         2.7\n",
       "12594  2004   1495       Manual   119000  300  34.5         1.8\n",
       "11174  2001   1695    Automatic   108800  325  31.7         3.2\n",
       "12710  2006   1695    Automatic   153000  300  33.6         1.8\n",
       "12766  2004   1780    Automatic   118000  265  41.5         2.2\n",
       "12009  2007   1800    Automatic    84000  200  42.8         1.5\n",
       "11764  1998   1990    Automatic    99300  265  32.1         2.3\n",
       "11808  1998   1990    Automatic   113557  265  32.1         2.3\n",
       "11383  2005   1995    Automatic   105000  260  43.5         2.1\n",
       "11378  2004   1995    Semi-Auto   165000  330  20.0         3.7\n",
       "11857  2002   2140    Automatic    52700  325  31.4         2.0\n",
       "11906  2007   2478    Automatic    81000  160  49.6         2.0\n",
       "11795  2005   2490    Automatic   101980  200  47.9         2.0\n",
       "12765  2004   2495    Automatic   104000  325  31.7         1.8\n",
       "11943  2005   2690    Automatic   109000  325  32.1         1.8\n",
       "11263  2007   2795       Manual    79485  200  45.6         1.5\n",
       "49     2006   2880    Automatic    66000  160  52.3         2.0"
      ]
     },
     "execution_count": 13,
     "metadata": {},
     "output_type": "execute_result"
    }
   ],
   "source": [
    "dataFrame.sort_values(\"price\",ascending=True).head(20)"
   ]
  },
  {
   "cell_type": "code",
   "execution_count": 14,
   "id": "b733ef23",
   "metadata": {},
   "outputs": [
    {
     "data": {
      "text/plain": [
       "13119"
      ]
     },
     "execution_count": 14,
     "metadata": {},
     "output_type": "execute_result"
    }
   ],
   "source": [
    "len(dataFrame)"
   ]
  },
  {
   "cell_type": "code",
   "execution_count": 15,
   "id": "c533173a",
   "metadata": {},
   "outputs": [],
   "source": [
    "anaDataFrame =dataFrame.sort_values(\"price\",ascending=False).iloc[131:]"
   ]
  },
  {
   "cell_type": "code",
   "execution_count": 16,
   "id": "bb957dc1",
   "metadata": {},
   "outputs": [
    {
     "data": {
      "text/html": [
       "<div>\n",
       "<style scoped>\n",
       "    .dataframe tbody tr th:only-of-type {\n",
       "        vertical-align: middle;\n",
       "    }\n",
       "\n",
       "    .dataframe tbody tr th {\n",
       "        vertical-align: top;\n",
       "    }\n",
       "\n",
       "    .dataframe thead th {\n",
       "        text-align: right;\n",
       "    }\n",
       "</style>\n",
       "<table border=\"1\" class=\"dataframe\">\n",
       "  <thead>\n",
       "    <tr style=\"text-align: right;\">\n",
       "      <th></th>\n",
       "      <th>year</th>\n",
       "      <th>price</th>\n",
       "      <th>mileage</th>\n",
       "      <th>tax</th>\n",
       "      <th>mpg</th>\n",
       "      <th>engineSize</th>\n",
       "    </tr>\n",
       "  </thead>\n",
       "  <tbody>\n",
       "    <tr>\n",
       "      <th>count</th>\n",
       "      <td>12988.000000</td>\n",
       "      <td>12988.000000</td>\n",
       "      <td>12988.000000</td>\n",
       "      <td>12988.000000</td>\n",
       "      <td>12988.000000</td>\n",
       "      <td>12988.000000</td>\n",
       "    </tr>\n",
       "    <tr>\n",
       "      <th>mean</th>\n",
       "      <td>2017.281876</td>\n",
       "      <td>24074.926933</td>\n",
       "      <td>22132.741146</td>\n",
       "      <td>129.689714</td>\n",
       "      <td>55.437142</td>\n",
       "      <td>2.050901</td>\n",
       "    </tr>\n",
       "    <tr>\n",
       "      <th>std</th>\n",
       "      <td>2.228515</td>\n",
       "      <td>9866.224575</td>\n",
       "      <td>21196.776401</td>\n",
       "      <td>65.183076</td>\n",
       "      <td>15.025999</td>\n",
       "      <td>0.532596</td>\n",
       "    </tr>\n",
       "    <tr>\n",
       "      <th>min</th>\n",
       "      <td>1970.000000</td>\n",
       "      <td>650.000000</td>\n",
       "      <td>1.000000</td>\n",
       "      <td>0.000000</td>\n",
       "      <td>1.100000</td>\n",
       "      <td>0.000000</td>\n",
       "    </tr>\n",
       "    <tr>\n",
       "      <th>25%</th>\n",
       "      <td>2016.000000</td>\n",
       "      <td>17357.500000</td>\n",
       "      <td>6322.000000</td>\n",
       "      <td>125.000000</td>\n",
       "      <td>45.600000</td>\n",
       "      <td>1.675000</td>\n",
       "    </tr>\n",
       "    <tr>\n",
       "      <th>50%</th>\n",
       "      <td>2018.000000</td>\n",
       "      <td>22299.000000</td>\n",
       "      <td>15369.500000</td>\n",
       "      <td>145.000000</td>\n",
       "      <td>56.500000</td>\n",
       "      <td>2.000000</td>\n",
       "    </tr>\n",
       "    <tr>\n",
       "      <th>75%</th>\n",
       "      <td>2019.000000</td>\n",
       "      <td>28706.000000</td>\n",
       "      <td>31982.250000</td>\n",
       "      <td>145.000000</td>\n",
       "      <td>64.200000</td>\n",
       "      <td>2.100000</td>\n",
       "    </tr>\n",
       "    <tr>\n",
       "      <th>max</th>\n",
       "      <td>2020.000000</td>\n",
       "      <td>65990.000000</td>\n",
       "      <td>259000.000000</td>\n",
       "      <td>580.000000</td>\n",
       "      <td>217.300000</td>\n",
       "      <td>6.200000</td>\n",
       "    </tr>\n",
       "  </tbody>\n",
       "</table>\n",
       "</div>"
      ],
      "text/plain": [
       "               year         price        mileage           tax           mpg  \\\n",
       "count  12988.000000  12988.000000   12988.000000  12988.000000  12988.000000   \n",
       "mean    2017.281876  24074.926933   22132.741146    129.689714     55.437142   \n",
       "std        2.228515   9866.224575   21196.776401     65.183076     15.025999   \n",
       "min     1970.000000    650.000000       1.000000      0.000000      1.100000   \n",
       "25%     2016.000000  17357.500000    6322.000000    125.000000     45.600000   \n",
       "50%     2018.000000  22299.000000   15369.500000    145.000000     56.500000   \n",
       "75%     2019.000000  28706.000000   31982.250000    145.000000     64.200000   \n",
       "max     2020.000000  65990.000000  259000.000000    580.000000    217.300000   \n",
       "\n",
       "         engineSize  \n",
       "count  12988.000000  \n",
       "mean       2.050901  \n",
       "std        0.532596  \n",
       "min        0.000000  \n",
       "25%        1.675000  \n",
       "50%        2.000000  \n",
       "75%        2.100000  \n",
       "max        6.200000  "
      ]
     },
     "execution_count": 16,
     "metadata": {},
     "output_type": "execute_result"
    }
   ],
   "source": [
    "anaDataFrame.describe()"
   ]
  },
  {
   "cell_type": "code",
   "execution_count": 17,
   "id": "02f0e9cd",
   "metadata": {},
   "outputs": [
    {
     "name": "stderr",
     "output_type": "stream",
     "text": [
      "C:\\Users\\slymn\\anaconda3\\lib\\site-packages\\seaborn\\distributions.py:2619: FutureWarning: `distplot` is a deprecated function and will be removed in a future version. Please adapt your code to use either `displot` (a figure-level function with similar flexibility) or `histplot` (an axes-level function for histograms).\n",
      "  warnings.warn(msg, FutureWarning)\n"
     ]
    },
    {
     "data": {
      "text/plain": [
       "<AxesSubplot:xlabel='price', ylabel='Density'>"
      ]
     },
     "execution_count": 17,
     "metadata": {},
     "output_type": "execute_result"
    },
    {
     "data": {
      "image/png": "[encoded data removed]",
      "text/plain": [
       "<Figure size 504x360 with 1 Axes>"
      ]
     },
     "metadata": {
      "needs_background": "light"
     },
     "output_type": "display_data"
    }
   ],
   "source": [
    "plt.figure(figsize=(7,5))\n",
    "sbn.distplot(anaDataFrame[\"price\"])"
   ]
  },
  {
   "cell_type": "code",
   "execution_count": 18,
   "id": "12559b13",
   "metadata": {},
   "outputs": [
    {
     "data": {
      "text/plain": [
       "year\n",
       "1970    24999.000000\n",
       "1997     9995.000000\n",
       "1998     8605.000000\n",
       "1999     5995.000000\n",
       "2000     5743.333333\n",
       "2001     4957.900000\n",
       "2002     5820.444444\n",
       "2003     4878.000000\n",
       "2004     4727.615385\n",
       "2005     4426.111111\n",
       "2006     4036.875000\n",
       "2007     5136.045455\n",
       "2008     6967.437500\n",
       "2009     6166.764706\n",
       "2010     8308.473684\n",
       "2011    12624.894737\n",
       "2012    10845.140351\n",
       "2013    11939.842466\n",
       "2014    14042.936864\n",
       "2015    16731.780020\n",
       "2016    19307.892948\n",
       "2017    21514.307854\n",
       "2018    25720.162918\n",
       "2019    31290.020865\n",
       "2020    35433.282337\n",
       "Name: price, dtype: float64"
      ]
     },
     "execution_count": 18,
     "metadata": {},
     "output_type": "execute_result"
    }
   ],
   "source": [
    "dataFrame.groupby(\"year\").mean()[\"price\"]"
   ]
  },
  {
   "cell_type": "code",
   "execution_count": 19,
   "id": "414c5da3",
   "metadata": {},
   "outputs": [
    {
     "data": {
      "text/plain": [
       "year\n",
       "1970    24999.000000\n",
       "1997     9995.000000\n",
       "1998     8605.000000\n",
       "1999     5995.000000\n",
       "2000     5743.333333\n",
       "2001     4957.900000\n",
       "2002     5820.444444\n",
       "2003     4878.000000\n",
       "2004     4727.615385\n",
       "2005     4426.111111\n",
       "2006     4036.875000\n",
       "2007     5136.045455\n",
       "2008     6967.437500\n",
       "2009     6166.764706\n",
       "2010     8308.473684\n",
       "2011     8913.459459\n",
       "2012    10845.140351\n",
       "2013    11939.842466\n",
       "2014    14042.936864\n",
       "2015    16647.822222\n",
       "2016    19223.558943\n",
       "2017    21356.280421\n",
       "2018    24800.844506\n",
       "2019    30289.524832\n",
       "2020    34234.794872\n",
       "Name: price, dtype: float64"
      ]
     },
     "execution_count": 19,
     "metadata": {},
     "output_type": "execute_result"
    }
   ],
   "source": [
    "anaDataFrame.groupby(\"year\").mean()[\"price\"]"
   ]
  },
  {
   "cell_type": "code",
   "execution_count": 20,
   "id": "0dfefd35",
   "metadata": {},
   "outputs": [
    {
     "data": {
      "text/plain": [
       "year\n",
       "1997     9995.000000\n",
       "1998     8605.000000\n",
       "1999     5995.000000\n",
       "2000     5743.333333\n",
       "2001     4957.900000\n",
       "2002     5820.444444\n",
       "2003     4878.000000\n",
       "2004     4727.615385\n",
       "2005     4426.111111\n",
       "2006     4036.875000\n",
       "2007     5136.045455\n",
       "2008     6967.437500\n",
       "2009     6166.764706\n",
       "2010     8308.473684\n",
       "2011    12624.894737\n",
       "2012    10845.140351\n",
       "2013    11939.842466\n",
       "2014    14042.936864\n",
       "2015    16731.780020\n",
       "2016    19307.892948\n",
       "2017    21514.307854\n",
       "2018    25720.162918\n",
       "2019    31290.020865\n",
       "2020    35433.282337\n",
       "Name: price, dtype: float64"
      ]
     },
     "execution_count": 20,
     "metadata": {},
     "output_type": "execute_result"
    }
   ],
   "source": [
    "dataFrame[dataFrame.year!=1970].groupby(\"year\").mean()[\"price\"]"
   ]
  },
  {
   "cell_type": "code",
   "execution_count": 21,
   "id": "7c0ca10e",
   "metadata": {},
   "outputs": [],
   "source": [
    "dataFrame=anaDataFrame"
   ]
  },
  {
   "cell_type": "code",
   "execution_count": 22,
   "id": "4d32cce6",
   "metadata": {},
   "outputs": [],
   "source": [
    "dataFrame=dataFrame[dataFrame.year!=1970]"
   ]
  },
  {
   "cell_type": "code",
   "execution_count": 23,
   "id": "8983dbe3",
   "metadata": {},
   "outputs": [
    {
     "data": {
      "text/plain": [
       "year\n",
       "1997     9995.000000\n",
       "1998     8605.000000\n",
       "1999     5995.000000\n",
       "2000     5743.333333\n",
       "2001     4957.900000\n",
       "2002     5820.444444\n",
       "2003     4878.000000\n",
       "2004     4727.615385\n",
       "2005     4426.111111\n",
       "2006     4036.875000\n",
       "2007     5136.045455\n",
       "2008     6967.437500\n",
       "2009     6166.764706\n",
       "2010     8308.473684\n",
       "2011     8913.459459\n",
       "2012    10845.140351\n",
       "2013    11939.842466\n",
       "2014    14042.936864\n",
       "2015    16647.822222\n",
       "2016    19223.558943\n",
       "2017    21356.280421\n",
       "2018    24800.844506\n",
       "2019    30289.524832\n",
       "2020    34234.794872\n",
       "Name: price, dtype: float64"
      ]
     },
     "execution_count": 23,
     "metadata": {},
     "output_type": "execute_result"
    }
   ],
   "source": [
    "dataFrame.groupby(\"year\").mean()[\"price\"]"
   ]
  },
  {
   "cell_type": "code",
   "execution_count": 24,
   "id": "98c1af33",
   "metadata": {},
   "outputs": [
    {
     "data": {
      "text/html": [
       "<div>\n",
       "<style scoped>\n",
       "    .dataframe tbody tr th:only-of-type {\n",
       "        vertical-align: middle;\n",
       "    }\n",
       "\n",
       "    .dataframe tbody tr th {\n",
       "        vertical-align: top;\n",
       "    }\n",
       "\n",
       "    .dataframe thead th {\n",
       "        text-align: right;\n",
       "    }\n",
       "</style>\n",
       "<table border=\"1\" class=\"dataframe\">\n",
       "  <thead>\n",
       "    <tr style=\"text-align: right;\">\n",
       "      <th></th>\n",
       "      <th>year</th>\n",
       "      <th>price</th>\n",
       "      <th>transmission</th>\n",
       "      <th>mileage</th>\n",
       "      <th>tax</th>\n",
       "      <th>mpg</th>\n",
       "      <th>engineSize</th>\n",
       "    </tr>\n",
       "  </thead>\n",
       "  <tbody>\n",
       "    <tr>\n",
       "      <th>6177</th>\n",
       "      <td>2019</td>\n",
       "      <td>65990</td>\n",
       "      <td>Semi-Auto</td>\n",
       "      <td>5076</td>\n",
       "      <td>150</td>\n",
       "      <td>30.4</td>\n",
       "      <td>3.0</td>\n",
       "    </tr>\n",
       "    <tr>\n",
       "      <th>5779</th>\n",
       "      <td>2020</td>\n",
       "      <td>65990</td>\n",
       "      <td>Semi-Auto</td>\n",
       "      <td>999</td>\n",
       "      <td>145</td>\n",
       "      <td>28.0</td>\n",
       "      <td>4.0</td>\n",
       "    </tr>\n",
       "    <tr>\n",
       "      <th>3191</th>\n",
       "      <td>2020</td>\n",
       "      <td>65980</td>\n",
       "      <td>Semi-Auto</td>\n",
       "      <td>3999</td>\n",
       "      <td>145</td>\n",
       "      <td>28.0</td>\n",
       "      <td>4.0</td>\n",
       "    </tr>\n",
       "    <tr>\n",
       "      <th>4727</th>\n",
       "      <td>2019</td>\n",
       "      <td>65000</td>\n",
       "      <td>Semi-Auto</td>\n",
       "      <td>3398</td>\n",
       "      <td>145</td>\n",
       "      <td>27.2</td>\n",
       "      <td>4.0</td>\n",
       "    </tr>\n",
       "    <tr>\n",
       "      <th>8814</th>\n",
       "      <td>2019</td>\n",
       "      <td>64999</td>\n",
       "      <td>Semi-Auto</td>\n",
       "      <td>119</td>\n",
       "      <td>145</td>\n",
       "      <td>40.9</td>\n",
       "      <td>3.0</td>\n",
       "    </tr>\n",
       "  </tbody>\n",
       "</table>\n",
       "</div>"
      ],
      "text/plain": [
       "      year  price transmission  mileage  tax   mpg  engineSize\n",
       "6177  2019  65990    Semi-Auto     5076  150  30.4         3.0\n",
       "5779  2020  65990    Semi-Auto      999  145  28.0         4.0\n",
       "3191  2020  65980    Semi-Auto     3999  145  28.0         4.0\n",
       "4727  2019  65000    Semi-Auto     3398  145  27.2         4.0\n",
       "8814  2019  64999    Semi-Auto      119  145  40.9         3.0"
      ]
     },
     "execution_count": 24,
     "metadata": {},
     "output_type": "execute_result"
    }
   ],
   "source": [
    "dataFrame.head()"
   ]
  },
  {
   "cell_type": "code",
   "execution_count": 25,
   "id": "1b9f73f5",
   "metadata": {},
   "outputs": [],
   "source": [
    "dataFrame=dataFrame.drop(\"transmission\",axis=1)"
   ]
  },
  {
   "cell_type": "code",
   "execution_count": 26,
   "id": "6e376ed7",
   "metadata": {},
   "outputs": [
    {
     "data": {
      "text/html": [
       "<div>\n",
       "<style scoped>\n",
       "    .dataframe tbody tr th:only-of-type {\n",
       "        vertical-align: middle;\n",
       "    }\n",
       "\n",
       "    .dataframe tbody tr th {\n",
       "        vertical-align: top;\n",
       "    }\n",
       "\n",
       "    .dataframe thead th {\n",
       "        text-align: right;\n",
       "    }\n",
       "</style>\n",
       "<table border=\"1\" class=\"dataframe\">\n",
       "  <thead>\n",
       "    <tr style=\"text-align: right;\">\n",
       "      <th></th>\n",
       "      <th>year</th>\n",
       "      <th>price</th>\n",
       "      <th>mileage</th>\n",
       "      <th>tax</th>\n",
       "      <th>mpg</th>\n",
       "      <th>engineSize</th>\n",
       "    </tr>\n",
       "  </thead>\n",
       "  <tbody>\n",
       "    <tr>\n",
       "      <th>6177</th>\n",
       "      <td>2019</td>\n",
       "      <td>65990</td>\n",
       "      <td>5076</td>\n",
       "      <td>150</td>\n",
       "      <td>30.4</td>\n",
       "      <td>3.0</td>\n",
       "    </tr>\n",
       "    <tr>\n",
       "      <th>5779</th>\n",
       "      <td>2020</td>\n",
       "      <td>65990</td>\n",
       "      <td>999</td>\n",
       "      <td>145</td>\n",
       "      <td>28.0</td>\n",
       "      <td>4.0</td>\n",
       "    </tr>\n",
       "    <tr>\n",
       "      <th>3191</th>\n",
       "      <td>2020</td>\n",
       "      <td>65980</td>\n",
       "      <td>3999</td>\n",
       "      <td>145</td>\n",
       "      <td>28.0</td>\n",
       "      <td>4.0</td>\n",
       "    </tr>\n",
       "    <tr>\n",
       "      <th>4727</th>\n",
       "      <td>2019</td>\n",
       "      <td>65000</td>\n",
       "      <td>3398</td>\n",
       "      <td>145</td>\n",
       "      <td>27.2</td>\n",
       "      <td>4.0</td>\n",
       "    </tr>\n",
       "    <tr>\n",
       "      <th>8814</th>\n",
       "      <td>2019</td>\n",
       "      <td>64999</td>\n",
       "      <td>119</td>\n",
       "      <td>145</td>\n",
       "      <td>40.9</td>\n",
       "      <td>3.0</td>\n",
       "    </tr>\n",
       "  </tbody>\n",
       "</table>\n",
       "</div>"
      ],
      "text/plain": [
       "      year  price  mileage  tax   mpg  engineSize\n",
       "6177  2019  65990     5076  150  30.4         3.0\n",
       "5779  2020  65990      999  145  28.0         4.0\n",
       "3191  2020  65980     3999  145  28.0         4.0\n",
       "4727  2019  65000     3398  145  27.2         4.0\n",
       "8814  2019  64999      119  145  40.9         3.0"
      ]
     },
     "execution_count": 26,
     "metadata": {},
     "output_type": "execute_result"
    }
   ],
   "source": [
    "dataFrame.head()"
   ]
  },
  {
   "cell_type": "code",
   "execution_count": 27,
   "id": "af212624",
   "metadata": {},
   "outputs": [],
   "source": [
    "y=dataFrame[\"price\"].values\n",
    "x=dataFrame.drop(\"price\",axis=1)"
   ]
  },
  {
   "cell_type": "code",
   "execution_count": 28,
   "id": "3fa139d7",
   "metadata": {},
   "outputs": [
    {
     "data": {
      "text/plain": [
       "array([65990, 65990, 65980, ...,  1490,  1350,   650], dtype=int64)"
      ]
     },
     "execution_count": 28,
     "metadata": {},
     "output_type": "execute_result"
    }
   ],
   "source": [
    "y"
   ]
  },
  {
   "cell_type": "code",
   "execution_count": 29,
   "id": "f80909d2",
   "metadata": {},
   "outputs": [
    {
     "data": {
      "text/html": [
       "<div>\n",
       "<style scoped>\n",
       "    .dataframe tbody tr th:only-of-type {\n",
       "        vertical-align: middle;\n",
       "    }\n",
       "\n",
       "    .dataframe tbody tr th {\n",
       "        vertical-align: top;\n",
       "    }\n",
       "\n",
       "    .dataframe thead th {\n",
       "        text-align: right;\n",
       "    }\n",
       "</style>\n",
       "<table border=\"1\" class=\"dataframe\">\n",
       "  <thead>\n",
       "    <tr style=\"text-align: right;\">\n",
       "      <th></th>\n",
       "      <th>year</th>\n",
       "      <th>mileage</th>\n",
       "      <th>tax</th>\n",
       "      <th>mpg</th>\n",
       "      <th>engineSize</th>\n",
       "    </tr>\n",
       "  </thead>\n",
       "  <tbody>\n",
       "    <tr>\n",
       "      <th>6177</th>\n",
       "      <td>2019</td>\n",
       "      <td>5076</td>\n",
       "      <td>150</td>\n",
       "      <td>30.4</td>\n",
       "      <td>3.0</td>\n",
       "    </tr>\n",
       "    <tr>\n",
       "      <th>5779</th>\n",
       "      <td>2020</td>\n",
       "      <td>999</td>\n",
       "      <td>145</td>\n",
       "      <td>28.0</td>\n",
       "      <td>4.0</td>\n",
       "    </tr>\n",
       "    <tr>\n",
       "      <th>3191</th>\n",
       "      <td>2020</td>\n",
       "      <td>3999</td>\n",
       "      <td>145</td>\n",
       "      <td>28.0</td>\n",
       "      <td>4.0</td>\n",
       "    </tr>\n",
       "    <tr>\n",
       "      <th>4727</th>\n",
       "      <td>2019</td>\n",
       "      <td>3398</td>\n",
       "      <td>145</td>\n",
       "      <td>27.2</td>\n",
       "      <td>4.0</td>\n",
       "    </tr>\n",
       "    <tr>\n",
       "      <th>8814</th>\n",
       "      <td>2019</td>\n",
       "      <td>119</td>\n",
       "      <td>145</td>\n",
       "      <td>40.9</td>\n",
       "      <td>3.0</td>\n",
       "    </tr>\n",
       "  </tbody>\n",
       "</table>\n",
       "</div>"
      ],
      "text/plain": [
       "      year  mileage  tax   mpg  engineSize\n",
       "6177  2019     5076  150  30.4         3.0\n",
       "5779  2020      999  145  28.0         4.0\n",
       "3191  2020     3999  145  28.0         4.0\n",
       "4727  2019     3398  145  27.2         4.0\n",
       "8814  2019      119  145  40.9         3.0"
      ]
     },
     "execution_count": 29,
     "metadata": {},
     "output_type": "execute_result"
    }
   ],
   "source": [
    "x.head()"
   ]
  },
  {
   "cell_type": "code",
   "execution_count": 30,
   "id": "f7429c42",
   "metadata": {},
   "outputs": [],
   "source": [
    "from sklearn.model_selection import train_test_split"
   ]
  },
  {
   "cell_type": "code",
   "execution_count": 48,
   "id": "2ff9a098",
   "metadata": {},
   "outputs": [],
   "source": [
    "x_train,x_test,y_train,y_test=train_test_split(x,y,test_size=0.3,random_state=10)"
   ]
  },
  {
   "cell_type": "code",
   "execution_count": 49,
   "id": "2de94663",
   "metadata": {},
   "outputs": [
    {
     "data": {
      "text/plain": [
       "9090"
      ]
     },
     "execution_count": 49,
     "metadata": {},
     "output_type": "execute_result"
    }
   ],
   "source": [
    "len(x_train)"
   ]
  },
  {
   "cell_type": "code",
   "execution_count": 50,
   "id": "ba3cac1b",
   "metadata": {},
   "outputs": [
    {
     "data": {
      "text/plain": [
       "3897"
      ]
     },
     "execution_count": 50,
     "metadata": {},
     "output_type": "execute_result"
    }
   ],
   "source": [
    "len(x_test)"
   ]
  },
  {
   "cell_type": "code",
   "execution_count": 51,
   "id": "e4ac3827",
   "metadata": {},
   "outputs": [
    {
     "data": {
      "text/plain": [
       "3897"
      ]
     },
     "execution_count": 51,
     "metadata": {},
     "output_type": "execute_result"
    }
   ],
   "source": [
    "len(y_test)"
   ]
  },
  {
   "cell_type": "code",
   "execution_count": 52,
   "id": "d14e8710",
   "metadata": {},
   "outputs": [
    {
     "data": {
      "text/plain": [
       "9090"
      ]
     },
     "execution_count": 52,
     "metadata": {},
     "output_type": "execute_result"
    }
   ],
   "source": [
    "len(y_train)"
   ]
  },
  {
   "cell_type": "code",
   "execution_count": 53,
   "id": "c961566b",
   "metadata": {},
   "outputs": [],
   "source": [
    "from sklearn.preprocessing import MinMaxScaler"
   ]
  },
  {
   "cell_type": "code",
   "execution_count": 54,
   "id": "be1ba386",
   "metadata": {},
   "outputs": [],
   "source": [
    "scaler=MinMaxScaler()"
   ]
  },
  {
   "cell_type": "code",
   "execution_count": 55,
   "id": "f6f2d68d",
   "metadata": {},
   "outputs": [],
   "source": [
    "x_train=scaler.fit_transform(x_train)"
   ]
  },
  {
   "cell_type": "code",
   "execution_count": 56,
   "id": "d00512ca",
   "metadata": {},
   "outputs": [],
   "source": [
    "x_test=scaler.transform(x_test)"
   ]
  },
  {
   "cell_type": "code",
   "execution_count": 57,
   "id": "cdc72492",
   "metadata": {},
   "outputs": [],
   "source": [
    "from tensorflow.keras.models import Sequential\n",
    "from tensorflow.keras.layers import Dense"
   ]
  },
  {
   "cell_type": "code",
   "execution_count": 58,
   "id": "3df8d350",
   "metadata": {},
   "outputs": [
    {
     "data": {
      "text/plain": [
       "(9090, 5)"
      ]
     },
     "execution_count": 58,
     "metadata": {},
     "output_type": "execute_result"
    }
   ],
   "source": [
    "x_train.shape"
   ]
  },
  {
   "cell_type": "code",
   "execution_count": 97,
   "id": "b96379f8",
   "metadata": {},
   "outputs": [],
   "source": [
    "model=Sequential()\n",
    "model.add(Dense(15,activation=\"relu\"))\n",
    "model.add(Dense(15,activation=\"relu\"))\n",
    "model.add(Dense(15,activation=\"relu\"))\n",
    "model.add(Dense(15,activation=\"relu\"))\n",
    "model.add(Dense(15,activation=\"relu\"))\n",
    "\n",
    "model.add(Dense(1))\n",
    "\n",
    "model.compile(optimizer=\"adam\",loss=\"mse\")"
   ]
  },
  {
   "cell_type": "code",
   "execution_count": 98,
   "id": "2a515b1e",
   "metadata": {},
   "outputs": [
    {
     "name": "stdout",
     "output_type": "stream",
     "text": [
      "Epoch 1/300\n",
      "37/37 [==============================] - 0s 4ms/step - loss: 672143616.0000 - val_loss: 688095040.0000\n",
      "Epoch 2/300\n",
      "37/37 [==============================] - 0s 1ms/step - loss: 672085184.0000 - val_loss: 687962560.0000\n",
      "Epoch 3/300\n",
      "37/37 [==============================] - 0s 1ms/step - loss: 671771072.0000 - val_loss: 687309504.0000\n",
      "Epoch 4/300\n",
      "37/37 [==============================] - 0s 2ms/step - loss: 670323776.0000 - val_loss: 684401216.0000\n",
      "Epoch 5/300\n",
      "37/37 [==============================] - 0s 2ms/step - loss: 664291520.0000 - val_loss: 672917760.0000\n",
      "Epoch 6/300\n",
      "37/37 [==============================] - 0s 1ms/step - loss: 642735360.0000 - val_loss: 634933952.0000\n",
      "Epoch 7/300\n",
      "37/37 [==============================] - 0s 2ms/step - loss: 579501760.0000 - val_loss: 534565344.0000\n",
      "Epoch 8/300\n",
      "37/37 [==============================] - 0s 2ms/step - loss: 437591872.0000 - val_loss: 342666816.0000\n",
      "Epoch 9/300\n",
      "37/37 [==============================] - 0s 1ms/step - loss: 230473472.0000 - val_loss: 141552160.0000\n",
      "Epoch 10/300\n",
      "37/37 [==============================] - 0s 1ms/step - loss: 102310080.0000 - val_loss: 90987224.0000\n",
      "Epoch 11/300\n",
      "37/37 [==============================] - 0s 2ms/step - loss: 88967416.0000 - val_loss: 89604600.0000\n",
      "Epoch 12/300\n",
      "37/37 [==============================] - 0s 1ms/step - loss: 87718728.0000 - val_loss: 88641864.0000\n",
      "Epoch 13/300\n",
      "37/37 [==============================] - 0s 2ms/step - loss: 86670728.0000 - val_loss: 87568368.0000\n",
      "Epoch 14/300\n",
      "37/37 [==============================] - 0s 2ms/step - loss: 85703896.0000 - val_loss: 86634800.0000\n",
      "Epoch 15/300\n",
      "37/37 [==============================] - 0s 2ms/step - loss: 84772232.0000 - val_loss: 85721400.0000\n",
      "Epoch 16/300\n",
      "37/37 [==============================] - 0s 1ms/step - loss: 83884952.0000 - val_loss: 84846664.0000\n",
      "Epoch 17/300\n",
      "37/37 [==============================] - 0s 2ms/step - loss: 83008640.0000 - val_loss: 84068088.0000\n",
      "Epoch 18/300\n",
      "37/37 [==============================] - 0s 1ms/step - loss: 82167800.0000 - val_loss: 83184976.0000\n",
      "Epoch 19/300\n",
      "37/37 [==============================] - 0s 1ms/step - loss: 81319184.0000 - val_loss: 82353704.0000\n",
      "Epoch 20/300\n",
      "37/37 [==============================] - 0s 1ms/step - loss: 80506376.0000 - val_loss: 81487032.0000\n",
      "Epoch 21/300\n",
      "37/37 [==============================] - 0s 2ms/step - loss: 79695808.0000 - val_loss: 80711512.0000\n",
      "Epoch 22/300\n",
      "37/37 [==============================] - 0s 2ms/step - loss: 78847440.0000 - val_loss: 79882992.0000\n",
      "Epoch 23/300\n",
      "37/37 [==============================] - 0s 2ms/step - loss: 78033048.0000 - val_loss: 79129752.0000\n",
      "Epoch 24/300\n",
      "37/37 [==============================] - 0s 2ms/step - loss: 77219968.0000 - val_loss: 78264328.0000\n",
      "Epoch 25/300\n",
      "37/37 [==============================] - 0s 2ms/step - loss: 76420288.0000 - val_loss: 77531288.0000\n",
      "Epoch 26/300\n",
      "37/37 [==============================] - 0s 2ms/step - loss: 75604936.0000 - val_loss: 76661200.0000\n",
      "Epoch 27/300\n",
      "37/37 [==============================] - 0s 2ms/step - loss: 74789112.0000 - val_loss: 75904552.0000\n",
      "Epoch 28/300\n",
      "37/37 [==============================] - 0s 2ms/step - loss: 73949936.0000 - val_loss: 75046952.0000\n",
      "Epoch 29/300\n",
      "37/37 [==============================] - 0s 2ms/step - loss: 73113400.0000 - val_loss: 74237440.0000\n",
      "Epoch 30/300\n",
      "37/37 [==============================] - 0s 2ms/step - loss: 72288440.0000 - val_loss: 73486736.0000\n",
      "Epoch 31/300\n",
      "37/37 [==============================] - 0s 2ms/step - loss: 71451288.0000 - val_loss: 72582432.0000\n",
      "Epoch 32/300\n",
      "37/37 [==============================] - 0s 2ms/step - loss: 70594496.0000 - val_loss: 71852152.0000\n",
      "Epoch 33/300\n",
      "37/37 [==============================] - 0s 1ms/step - loss: 69739480.0000 - val_loss: 70902000.0000\n",
      "Epoch 34/300\n",
      "37/37 [==============================] - 0s 1ms/step - loss: 68830584.0000 - val_loss: 69963872.0000\n",
      "Epoch 35/300\n",
      "37/37 [==============================] - 0s 2ms/step - loss: 67944256.0000 - val_loss: 69090312.0000\n",
      "Epoch 36/300\n",
      "37/37 [==============================] - 0s 2ms/step - loss: 67022340.0000 - val_loss: 68153248.0000\n",
      "Epoch 37/300\n",
      "37/37 [==============================] - 0s 1ms/step - loss: 66107048.0000 - val_loss: 67313664.0000\n",
      "Epoch 38/300\n",
      "37/37 [==============================] - 0s 2ms/step - loss: 65141796.0000 - val_loss: 66282028.0000\n",
      "Epoch 39/300\n",
      "37/37 [==============================] - 0s 2ms/step - loss: 64176332.0000 - val_loss: 65458440.0000\n",
      "Epoch 40/300\n",
      "37/37 [==============================] - 0s 2ms/step - loss: 63170956.0000 - val_loss: 64311968.0000\n",
      "Epoch 41/300\n",
      "37/37 [==============================] - 0s 2ms/step - loss: 62150448.0000 - val_loss: 63264160.0000\n",
      "Epoch 42/300\n",
      "37/37 [==============================] - 0s 2ms/step - loss: 61088144.0000 - val_loss: 62236688.0000\n",
      "Epoch 43/300\n",
      "37/37 [==============================] - 0s 2ms/step - loss: 59998432.0000 - val_loss: 61116952.0000\n",
      "Epoch 44/300\n",
      "37/37 [==============================] - 0s 2ms/step - loss: 58905956.0000 - val_loss: 60006776.0000\n",
      "Epoch 45/300\n",
      "37/37 [==============================] - 0s 2ms/step - loss: 57736284.0000 - val_loss: 58922344.0000\n",
      "Epoch 46/300\n",
      "37/37 [==============================] - 0s 1ms/step - loss: 56584900.0000 - val_loss: 57649148.0000\n",
      "Epoch 47/300\n",
      "37/37 [==============================] - 0s 2ms/step - loss: 55353824.0000 - val_loss: 56373112.0000\n",
      "Epoch 48/300\n",
      "37/37 [==============================] - 0s 2ms/step - loss: 54055724.0000 - val_loss: 55132188.0000\n",
      "Epoch 49/300\n",
      "37/37 [==============================] - 0s 2ms/step - loss: 52768360.0000 - val_loss: 53793980.0000\n",
      "Epoch 50/300\n",
      "37/37 [==============================] - 0s 2ms/step - loss: 51419820.0000 - val_loss: 52395100.0000\n",
      "Epoch 51/300\n",
      "37/37 [==============================] - 0s 2ms/step - loss: 50024064.0000 - val_loss: 50997164.0000\n",
      "Epoch 52/300\n",
      "37/37 [==============================] - 0s 2ms/step - loss: 48609628.0000 - val_loss: 49561328.0000\n",
      "Epoch 53/300\n",
      "37/37 [==============================] - 0s 2ms/step - loss: 47186156.0000 - val_loss: 48089588.0000\n",
      "Epoch 54/300\n",
      "37/37 [==============================] - 0s 2ms/step - loss: 45723596.0000 - val_loss: 46576992.0000\n",
      "Epoch 55/300\n",
      "37/37 [==============================] - 0s 2ms/step - loss: 44212552.0000 - val_loss: 45096224.0000\n",
      "Epoch 56/300\n",
      "37/37 [==============================] - 0s 1ms/step - loss: 42721180.0000 - val_loss: 43441792.0000\n",
      "Epoch 57/300\n",
      "37/37 [==============================] - 0s 2ms/step - loss: 41159948.0000 - val_loss: 41884564.0000\n",
      "Epoch 58/300\n",
      "37/37 [==============================] - 0s 1ms/step - loss: 39598408.0000 - val_loss: 40313320.0000\n",
      "Epoch 59/300\n",
      "37/37 [==============================] - 0s 1ms/step - loss: 38064720.0000 - val_loss: 38764400.0000\n",
      "Epoch 60/300\n",
      "37/37 [==============================] - 0s 1ms/step - loss: 36579176.0000 - val_loss: 37292836.0000\n",
      "Epoch 61/300\n",
      "37/37 [==============================] - 0s 2ms/step - loss: 35155884.0000 - val_loss: 35883736.0000\n",
      "Epoch 62/300\n",
      "37/37 [==============================] - 0s 2ms/step - loss: 33803780.0000 - val_loss: 34558964.0000\n",
      "Epoch 63/300\n",
      "37/37 [==============================] - 0s 2ms/step - loss: 32526094.0000 - val_loss: 33329336.0000\n",
      "Epoch 64/300\n",
      "37/37 [==============================] - 0s 1ms/step - loss: 31339532.0000 - val_loss: 32137808.0000\n",
      "Epoch 65/300\n",
      "37/37 [==============================] - 0s 1ms/step - loss: 30225258.0000 - val_loss: 31050314.0000\n",
      "Epoch 66/300\n",
      "37/37 [==============================] - 0s 2ms/step - loss: 29190764.0000 - val_loss: 30105032.0000\n",
      "Epoch 67/300\n",
      "37/37 [==============================] - 0s 1ms/step - loss: 28251480.0000 - val_loss: 29270916.0000\n",
      "Epoch 68/300\n",
      "37/37 [==============================] - 0s 1ms/step - loss: 27405602.0000 - val_loss: 28352932.0000\n",
      "Epoch 69/300\n",
      "37/37 [==============================] - 0s 1ms/step - loss: 26610438.0000 - val_loss: 27620988.0000\n",
      "Epoch 70/300\n",
      "37/37 [==============================] - 0s 2ms/step - loss: 25908006.0000 - val_loss: 26952492.0000\n",
      "Epoch 71/300\n",
      "37/37 [==============================] - 0s 1ms/step - loss: 25295078.0000 - val_loss: 26457860.0000\n",
      "Epoch 72/300\n",
      "37/37 [==============================] - 0s 1ms/step - loss: 24823192.0000 - val_loss: 25872546.0000\n"
     ]
    },
    {
     "name": "stdout",
     "output_type": "stream",
     "text": [
      "Epoch 73/300\n",
      "37/37 [==============================] - 0s 1ms/step - loss: 24276230.0000 - val_loss: 25411032.0000\n",
      "Epoch 74/300\n",
      "37/37 [==============================] - 0s 1ms/step - loss: 23900918.0000 - val_loss: 25019344.0000\n",
      "Epoch 75/300\n",
      "37/37 [==============================] - 0s 2ms/step - loss: 23483434.0000 - val_loss: 24703934.0000\n",
      "Epoch 76/300\n",
      "37/37 [==============================] - 0s 1ms/step - loss: 23193750.0000 - val_loss: 24376910.0000\n",
      "Epoch 77/300\n",
      "37/37 [==============================] - 0s 1ms/step - loss: 22864536.0000 - val_loss: 24231992.0000\n",
      "Epoch 78/300\n",
      "37/37 [==============================] - 0s 1ms/step - loss: 22604910.0000 - val_loss: 23848154.0000\n",
      "Epoch 79/300\n",
      "37/37 [==============================] - 0s 1ms/step - loss: 22377946.0000 - val_loss: 23597728.0000\n",
      "Epoch 80/300\n",
      "37/37 [==============================] - 0s 1ms/step - loss: 22159860.0000 - val_loss: 23405846.0000\n",
      "Epoch 81/300\n",
      "37/37 [==============================] - 0s 1ms/step - loss: 21981330.0000 - val_loss: 23235422.0000\n",
      "Epoch 82/300\n",
      "37/37 [==============================] - 0s 1ms/step - loss: 21796130.0000 - val_loss: 23039774.0000\n",
      "Epoch 83/300\n",
      "37/37 [==============================] - 0s 1ms/step - loss: 21619122.0000 - val_loss: 22897404.0000\n",
      "Epoch 84/300\n",
      "37/37 [==============================] - 0s 1ms/step - loss: 21512332.0000 - val_loss: 22826430.0000\n",
      "Epoch 85/300\n",
      "37/37 [==============================] - 0s 1ms/step - loss: 21412834.0000 - val_loss: 22663156.0000\n",
      "Epoch 86/300\n",
      "37/37 [==============================] - 0s 1ms/step - loss: 21330836.0000 - val_loss: 22603130.0000\n",
      "Epoch 87/300\n",
      "37/37 [==============================] - 0s 1ms/step - loss: 21177798.0000 - val_loss: 22460176.0000\n",
      "Epoch 88/300\n",
      "37/37 [==============================] - 0s 1ms/step - loss: 21093914.0000 - val_loss: 22390346.0000\n",
      "Epoch 89/300\n",
      "37/37 [==============================] - 0s 1ms/step - loss: 21002458.0000 - val_loss: 22325142.0000\n",
      "Epoch 90/300\n",
      "37/37 [==============================] - 0s 1ms/step - loss: 20942226.0000 - val_loss: 22264224.0000\n",
      "Epoch 91/300\n",
      "37/37 [==============================] - 0s 2ms/step - loss: 20839360.0000 - val_loss: 22164268.0000\n",
      "Epoch 92/300\n",
      "37/37 [==============================] - 0s 2ms/step - loss: 20773772.0000 - val_loss: 22077834.0000\n",
      "Epoch 93/300\n",
      "37/37 [==============================] - 0s 1ms/step - loss: 20687068.0000 - val_loss: 22034420.0000\n",
      "Epoch 94/300\n",
      "37/37 [==============================] - 0s 1ms/step - loss: 20621704.0000 - val_loss: 21948768.0000\n",
      "Epoch 95/300\n",
      "37/37 [==============================] - 0s 1ms/step - loss: 20539560.0000 - val_loss: 21893136.0000\n",
      "Epoch 96/300\n",
      "37/37 [==============================] - 0s 1ms/step - loss: 20493620.0000 - val_loss: 21837298.0000\n",
      "Epoch 97/300\n",
      "37/37 [==============================] - 0s 1ms/step - loss: 20520638.0000 - val_loss: 21782736.0000\n",
      "Epoch 98/300\n",
      "37/37 [==============================] - 0s 1ms/step - loss: 20381590.0000 - val_loss: 21735134.0000\n",
      "Epoch 99/300\n",
      "37/37 [==============================] - 0s 1ms/step - loss: 20349480.0000 - val_loss: 21689122.0000\n",
      "Epoch 100/300\n",
      "37/37 [==============================] - 0s 1ms/step - loss: 20297584.0000 - val_loss: 21704680.0000\n",
      "Epoch 101/300\n",
      "37/37 [==============================] - 0s 1ms/step - loss: 20234040.0000 - val_loss: 21724726.0000\n",
      "Epoch 102/300\n",
      "37/37 [==============================] - 0s 1ms/step - loss: 20260526.0000 - val_loss: 21562388.0000\n",
      "Epoch 103/300\n",
      "37/37 [==============================] - 0s 1ms/step - loss: 20147928.0000 - val_loss: 21530210.0000\n",
      "Epoch 104/300\n",
      "37/37 [==============================] - 0s 1ms/step - loss: 20131570.0000 - val_loss: 21503210.0000\n",
      "Epoch 105/300\n",
      "37/37 [==============================] - 0s 1ms/step - loss: 20059772.0000 - val_loss: 21447774.0000\n",
      "Epoch 106/300\n",
      "37/37 [==============================] - 0s 1ms/step - loss: 20032878.0000 - val_loss: 21566474.0000\n",
      "Epoch 107/300\n",
      "37/37 [==============================] - 0s 1ms/step - loss: 20013108.0000 - val_loss: 21462428.0000\n",
      "Epoch 108/300\n",
      "37/37 [==============================] - 0s 2ms/step - loss: 19992060.0000 - val_loss: 21605762.0000\n",
      "Epoch 109/300\n",
      "37/37 [==============================] - 0s 1ms/step - loss: 19948804.0000 - val_loss: 21322414.0000\n",
      "Epoch 110/300\n",
      "37/37 [==============================] - 0s 1ms/step - loss: 19906004.0000 - val_loss: 21301634.0000\n",
      "Epoch 111/300\n",
      "37/37 [==============================] - 0s 2ms/step - loss: 19845490.0000 - val_loss: 21282486.0000\n",
      "Epoch 112/300\n",
      "37/37 [==============================] - 0s 1ms/step - loss: 19796540.0000 - val_loss: 21225016.0000\n",
      "Epoch 113/300\n",
      "37/37 [==============================] - 0s 2ms/step - loss: 19808620.0000 - val_loss: 21211536.0000\n",
      "Epoch 114/300\n",
      "37/37 [==============================] - 0s 1ms/step - loss: 19764962.0000 - val_loss: 21199030.0000\n",
      "Epoch 115/300\n",
      "37/37 [==============================] - 0s 1ms/step - loss: 19727436.0000 - val_loss: 21187058.0000\n",
      "Epoch 116/300\n",
      "37/37 [==============================] - 0s 1ms/step - loss: 19717332.0000 - val_loss: 21134432.0000\n",
      "Epoch 117/300\n",
      "37/37 [==============================] - 0s 1ms/step - loss: 19661354.0000 - val_loss: 21088474.0000\n",
      "Epoch 118/300\n",
      "37/37 [==============================] - 0s 1ms/step - loss: 19608630.0000 - val_loss: 21066248.0000\n",
      "Epoch 119/300\n",
      "37/37 [==============================] - 0s 1ms/step - loss: 19588414.0000 - val_loss: 21068214.0000\n",
      "Epoch 120/300\n",
      "37/37 [==============================] - 0s 1ms/step - loss: 19556304.0000 - val_loss: 21006970.0000\n",
      "Epoch 121/300\n",
      "37/37 [==============================] - 0s 1ms/step - loss: 19542468.0000 - val_loss: 20997074.0000\n",
      "Epoch 122/300\n",
      "37/37 [==============================] - 0s 1ms/step - loss: 19525140.0000 - val_loss: 20994392.0000\n",
      "Epoch 123/300\n",
      "37/37 [==============================] - 0s 1ms/step - loss: 19532372.0000 - val_loss: 20985906.0000\n",
      "Epoch 124/300\n",
      "37/37 [==============================] - 0s 1ms/step - loss: 19447550.0000 - val_loss: 21013486.0000\n",
      "Epoch 125/300\n",
      "37/37 [==============================] - 0s 1ms/step - loss: 19428626.0000 - val_loss: 20893220.0000\n",
      "Epoch 126/300\n",
      "37/37 [==============================] - 0s 1ms/step - loss: 19437448.0000 - val_loss: 20865862.0000\n",
      "Epoch 127/300\n",
      "37/37 [==============================] - 0s 1ms/step - loss: 19360128.0000 - val_loss: 20892748.0000\n",
      "Epoch 128/300\n",
      "37/37 [==============================] - 0s 1ms/step - loss: 19356124.0000 - val_loss: 20842194.0000\n",
      "Epoch 129/300\n",
      "37/37 [==============================] - 0s 1ms/step - loss: 19306478.0000 - val_loss: 20899766.0000\n",
      "Epoch 130/300\n",
      "37/37 [==============================] - 0s 1ms/step - loss: 19349802.0000 - val_loss: 20809270.0000\n",
      "Epoch 131/300\n",
      "37/37 [==============================] - 0s 1ms/step - loss: 19305470.0000 - val_loss: 20774228.0000\n",
      "Epoch 132/300\n",
      "37/37 [==============================] - 0s 1ms/step - loss: 19245548.0000 - val_loss: 20724354.0000\n",
      "Epoch 133/300\n",
      "37/37 [==============================] - 0s 1ms/step - loss: 19265408.0000 - val_loss: 20714952.0000\n",
      "Epoch 134/300\n",
      "37/37 [==============================] - 0s 1ms/step - loss: 19209090.0000 - val_loss: 20677024.0000\n",
      "Epoch 135/300\n",
      "37/37 [==============================] - 0s 1ms/step - loss: 19216656.0000 - val_loss: 20664824.0000\n",
      "Epoch 136/300\n",
      "37/37 [==============================] - 0s 1ms/step - loss: 19242064.0000 - val_loss: 20760100.0000\n",
      "Epoch 137/300\n",
      "37/37 [==============================] - 0s 1ms/step - loss: 19170494.0000 - val_loss: 20618298.0000\n",
      "Epoch 138/300\n",
      "37/37 [==============================] - 0s 1ms/step - loss: 19139038.0000 - val_loss: 20634796.0000\n",
      "Epoch 139/300\n",
      "37/37 [==============================] - 0s 1ms/step - loss: 19112420.0000 - val_loss: 20689018.0000\n",
      "Epoch 140/300\n",
      "37/37 [==============================] - 0s 1ms/step - loss: 19182360.0000 - val_loss: 20554594.0000\n",
      "Epoch 141/300\n",
      "37/37 [==============================] - 0s 1ms/step - loss: 19059474.0000 - val_loss: 20547304.0000\n",
      "Epoch 142/300\n",
      "37/37 [==============================] - 0s 1ms/step - loss: 19077158.0000 - val_loss: 20514450.0000\n",
      "Epoch 143/300\n",
      "37/37 [==============================] - 0s 1ms/step - loss: 19032344.0000 - val_loss: 20530010.0000\n",
      "Epoch 144/300\n"
     ]
    },
    {
     "name": "stdout",
     "output_type": "stream",
     "text": [
      "37/37 [==============================] - 0s 1ms/step - loss: 19033916.0000 - val_loss: 20719676.0000\n",
      "Epoch 145/300\n",
      "37/37 [==============================] - 0s 1ms/step - loss: 19027434.0000 - val_loss: 20466438.0000\n",
      "Epoch 146/300\n",
      "37/37 [==============================] - 0s 1ms/step - loss: 18998354.0000 - val_loss: 20433124.0000\n",
      "Epoch 147/300\n",
      "37/37 [==============================] - 0s 2ms/step - loss: 18989262.0000 - val_loss: 20408414.0000\n",
      "Epoch 148/300\n",
      "37/37 [==============================] - 0s 1ms/step - loss: 18943128.0000 - val_loss: 20391240.0000\n",
      "Epoch 149/300\n",
      "37/37 [==============================] - 0s 2ms/step - loss: 18944940.0000 - val_loss: 20382928.0000\n",
      "Epoch 150/300\n",
      "37/37 [==============================] - 0s 1ms/step - loss: 18906472.0000 - val_loss: 20399808.0000\n",
      "Epoch 151/300\n",
      "37/37 [==============================] - 0s 1ms/step - loss: 18894994.0000 - val_loss: 20377010.0000\n",
      "Epoch 152/300\n",
      "37/37 [==============================] - 0s 1ms/step - loss: 18896774.0000 - val_loss: 20433412.0000\n",
      "Epoch 153/300\n",
      "37/37 [==============================] - 0s 1ms/step - loss: 18905906.0000 - val_loss: 20431036.0000\n",
      "Epoch 154/300\n",
      "37/37 [==============================] - 0s 1ms/step - loss: 18862572.0000 - val_loss: 20293450.0000\n",
      "Epoch 155/300\n",
      "37/37 [==============================] - 0s 2ms/step - loss: 18820422.0000 - val_loss: 20301366.0000\n",
      "Epoch 156/300\n",
      "37/37 [==============================] - 0s 1ms/step - loss: 18801740.0000 - val_loss: 20264196.0000\n",
      "Epoch 157/300\n",
      "37/37 [==============================] - 0s 1ms/step - loss: 18813814.0000 - val_loss: 20236138.0000\n",
      "Epoch 158/300\n",
      "37/37 [==============================] - 0s 1ms/step - loss: 18807826.0000 - val_loss: 20235354.0000\n",
      "Epoch 159/300\n",
      "37/37 [==============================] - 0s 1ms/step - loss: 18767048.0000 - val_loss: 20204690.0000\n",
      "Epoch 160/300\n",
      "37/37 [==============================] - 0s 1ms/step - loss: 18748578.0000 - val_loss: 20192434.0000\n",
      "Epoch 161/300\n",
      "37/37 [==============================] - 0s 1ms/step - loss: 18748048.0000 - val_loss: 20279156.0000\n",
      "Epoch 162/300\n",
      "37/37 [==============================] - 0s 1ms/step - loss: 18764598.0000 - val_loss: 20151140.0000\n",
      "Epoch 163/300\n",
      "37/37 [==============================] - 0s 1ms/step - loss: 18716008.0000 - val_loss: 20162742.0000\n",
      "Epoch 164/300\n",
      "37/37 [==============================] - 0s 1ms/step - loss: 18704918.0000 - val_loss: 20120874.0000\n",
      "Epoch 165/300\n",
      "37/37 [==============================] - 0s 1ms/step - loss: 18668538.0000 - val_loss: 20144236.0000\n",
      "Epoch 166/300\n",
      "37/37 [==============================] - 0s 1ms/step - loss: 18689734.0000 - val_loss: 20092256.0000\n",
      "Epoch 167/300\n",
      "37/37 [==============================] - 0s 1ms/step - loss: 18646358.0000 - val_loss: 20116574.0000\n",
      "Epoch 168/300\n",
      "37/37 [==============================] - 0s 1ms/step - loss: 18664338.0000 - val_loss: 20086766.0000\n",
      "Epoch 169/300\n",
      "37/37 [==============================] - 0s 1ms/step - loss: 18644330.0000 - val_loss: 20036106.0000\n",
      "Epoch 170/300\n",
      "37/37 [==============================] - 0s 1ms/step - loss: 18604274.0000 - val_loss: 20058844.0000\n",
      "Epoch 171/300\n",
      "37/37 [==============================] - 0s 1ms/step - loss: 18647710.0000 - val_loss: 20096694.0000\n",
      "Epoch 172/300\n",
      "37/37 [==============================] - 0s 1ms/step - loss: 18566498.0000 - val_loss: 20129024.0000\n",
      "Epoch 173/300\n",
      "37/37 [==============================] - 0s 1ms/step - loss: 18608568.0000 - val_loss: 19971574.0000\n",
      "Epoch 174/300\n",
      "37/37 [==============================] - 0s 1ms/step - loss: 18557778.0000 - val_loss: 19988072.0000\n",
      "Epoch 175/300\n",
      "37/37 [==============================] - 0s 1ms/step - loss: 18530412.0000 - val_loss: 19971660.0000\n",
      "Epoch 176/300\n",
      "37/37 [==============================] - 0s 1ms/step - loss: 18512264.0000 - val_loss: 19942872.0000\n",
      "Epoch 177/300\n",
      "37/37 [==============================] - 0s 1ms/step - loss: 18498664.0000 - val_loss: 20261206.0000\n",
      "Epoch 178/300\n",
      "37/37 [==============================] - 0s 1ms/step - loss: 18572620.0000 - val_loss: 19894860.0000\n",
      "Epoch 179/300\n",
      "37/37 [==============================] - 0s 1ms/step - loss: 18494212.0000 - val_loss: 19877974.0000\n",
      "Epoch 180/300\n",
      "37/37 [==============================] - 0s 1ms/step - loss: 18484546.0000 - val_loss: 19968992.0000\n",
      "Epoch 181/300\n",
      "37/37 [==============================] - 0s 1ms/step - loss: 18568148.0000 - val_loss: 19871996.0000\n",
      "Epoch 182/300\n",
      "37/37 [==============================] - 0s 1ms/step - loss: 18465472.0000 - val_loss: 20019218.0000\n",
      "Epoch 183/300\n",
      "37/37 [==============================] - 0s 1ms/step - loss: 18459262.0000 - val_loss: 19830508.0000\n",
      "Epoch 184/300\n",
      "37/37 [==============================] - 0s 1ms/step - loss: 18417136.0000 - val_loss: 19807368.0000\n",
      "Epoch 185/300\n",
      "37/37 [==============================] - 0s 1ms/step - loss: 18378190.0000 - val_loss: 19951472.0000\n",
      "Epoch 186/300\n",
      "37/37 [==============================] - 0s 1ms/step - loss: 18436006.0000 - val_loss: 19824554.0000\n",
      "Epoch 187/300\n",
      "37/37 [==============================] - 0s 1ms/step - loss: 18384180.0000 - val_loss: 19767820.0000\n",
      "Epoch 188/300\n",
      "37/37 [==============================] - 0s 1ms/step - loss: 18361550.0000 - val_loss: 19810554.0000\n",
      "Epoch 189/300\n",
      "37/37 [==============================] - 0s 1ms/step - loss: 18360198.0000 - val_loss: 19753148.0000\n",
      "Epoch 190/300\n",
      "37/37 [==============================] - 0s 1ms/step - loss: 18341944.0000 - val_loss: 19760230.0000\n",
      "Epoch 191/300\n",
      "37/37 [==============================] - 0s 1ms/step - loss: 18384854.0000 - val_loss: 19752626.0000\n",
      "Epoch 192/300\n",
      "37/37 [==============================] - 0s 1ms/step - loss: 18332444.0000 - val_loss: 19736476.0000\n",
      "Epoch 193/300\n",
      "37/37 [==============================] - 0s 1ms/step - loss: 18323656.0000 - val_loss: 19725060.0000\n",
      "Epoch 194/300\n",
      "37/37 [==============================] - 0s 1ms/step - loss: 18316384.0000 - val_loss: 19745990.0000\n",
      "Epoch 195/300\n",
      "37/37 [==============================] - 0s 2ms/step - loss: 18345070.0000 - val_loss: 19681640.0000\n",
      "Epoch 196/300\n",
      "37/37 [==============================] - 0s 1ms/step - loss: 18377244.0000 - val_loss: 19697464.0000\n",
      "Epoch 197/300\n",
      "37/37 [==============================] - 0s 1ms/step - loss: 18336552.0000 - val_loss: 19658900.0000\n",
      "Epoch 198/300\n",
      "37/37 [==============================] - 0s 1ms/step - loss: 18268872.0000 - val_loss: 19663704.0000\n",
      "Epoch 199/300\n",
      "37/37 [==============================] - 0s 1ms/step - loss: 18251918.0000 - val_loss: 19637610.0000\n",
      "Epoch 200/300\n",
      "37/37 [==============================] - 0s 1ms/step - loss: 18260020.0000 - val_loss: 19639608.0000\n",
      "Epoch 201/300\n",
      "37/37 [==============================] - 0s 1ms/step - loss: 18240482.0000 - val_loss: 19622282.0000\n",
      "Epoch 202/300\n",
      "37/37 [==============================] - 0s 1ms/step - loss: 18220610.0000 - val_loss: 19679330.0000\n",
      "Epoch 203/300\n",
      "37/37 [==============================] - 0s 1ms/step - loss: 18234904.0000 - val_loss: 19599100.0000\n",
      "Epoch 204/300\n",
      "37/37 [==============================] - 0s 1ms/step - loss: 18212004.0000 - val_loss: 19703302.0000\n",
      "Epoch 205/300\n",
      "37/37 [==============================] - 0s 1ms/step - loss: 18224910.0000 - val_loss: 19576956.0000\n",
      "Epoch 206/300\n",
      "37/37 [==============================] - 0s 1ms/step - loss: 18189996.0000 - val_loss: 19579430.0000\n",
      "Epoch 207/300\n",
      "37/37 [==============================] - 0s 1ms/step - loss: 18178186.0000 - val_loss: 19568184.0000\n",
      "Epoch 208/300\n",
      "37/37 [==============================] - 0s 1ms/step - loss: 18184660.0000 - val_loss: 19552856.0000\n",
      "Epoch 209/300\n",
      "37/37 [==============================] - 0s 1ms/step - loss: 18213972.0000 - val_loss: 19647874.0000\n",
      "Epoch 210/300\n",
      "37/37 [==============================] - 0s 1ms/step - loss: 18195102.0000 - val_loss: 19526750.0000\n",
      "Epoch 211/300\n",
      "37/37 [==============================] - 0s 1ms/step - loss: 18161432.0000 - val_loss: 19550840.0000\n",
      "Epoch 212/300\n",
      "37/37 [==============================] - 0s 1ms/step - loss: 18177450.0000 - val_loss: 19523310.0000\n",
      "Epoch 213/300\n",
      "37/37 [==============================] - 0s 1ms/step - loss: 18150686.0000 - val_loss: 19505522.0000\n",
      "Epoch 214/300\n",
      "37/37 [==============================] - 0s 1ms/step - loss: 18117602.0000 - val_loss: 19498094.0000\n",
      "Epoch 215/300\n"
     ]
    },
    {
     "name": "stdout",
     "output_type": "stream",
     "text": [
      "37/37 [==============================] - 0s 1ms/step - loss: 18102386.0000 - val_loss: 19492934.0000\n",
      "Epoch 216/300\n",
      "37/37 [==============================] - 0s 1ms/step - loss: 18102492.0000 - val_loss: 19493938.0000\n",
      "Epoch 217/300\n",
      "37/37 [==============================] - 0s 1ms/step - loss: 18105088.0000 - val_loss: 19473768.0000\n",
      "Epoch 218/300\n",
      "37/37 [==============================] - 0s 1ms/step - loss: 18139198.0000 - val_loss: 19576808.0000\n",
      "Epoch 219/300\n",
      "37/37 [==============================] - 0s 1ms/step - loss: 18114078.0000 - val_loss: 19626002.0000\n",
      "Epoch 220/300\n",
      "37/37 [==============================] - 0s 1ms/step - loss: 18146658.0000 - val_loss: 19472108.0000\n",
      "Epoch 221/300\n",
      "37/37 [==============================] - 0s 1ms/step - loss: 18110404.0000 - val_loss: 19442406.0000\n",
      "Epoch 222/300\n",
      "37/37 [==============================] - 0s 1ms/step - loss: 18108482.0000 - val_loss: 19440764.0000\n",
      "Epoch 223/300\n",
      "37/37 [==============================] - 0s 1ms/step - loss: 18072970.0000 - val_loss: 19443650.0000\n",
      "Epoch 224/300\n",
      "37/37 [==============================] - 0s 1ms/step - loss: 18071832.0000 - val_loss: 19416786.0000\n",
      "Epoch 225/300\n",
      "37/37 [==============================] - 0s 1ms/step - loss: 18064574.0000 - val_loss: 19470144.0000\n",
      "Epoch 226/300\n",
      "37/37 [==============================] - 0s 1ms/step - loss: 18080264.0000 - val_loss: 19405878.0000\n",
      "Epoch 227/300\n",
      "37/37 [==============================] - 0s 1ms/step - loss: 18057994.0000 - val_loss: 19422766.0000\n",
      "Epoch 228/300\n",
      "37/37 [==============================] - 0s 1ms/step - loss: 18020290.0000 - val_loss: 19388496.0000\n",
      "Epoch 229/300\n",
      "37/37 [==============================] - 0s 1ms/step - loss: 18039288.0000 - val_loss: 19388706.0000\n",
      "Epoch 230/300\n",
      "37/37 [==============================] - 0s 1ms/step - loss: 18075346.0000 - val_loss: 19386804.0000\n",
      "Epoch 231/300\n",
      "37/37 [==============================] - 0s 1ms/step - loss: 18023952.0000 - val_loss: 19379652.0000\n",
      "Epoch 232/300\n",
      "37/37 [==============================] - 0s 1ms/step - loss: 18019442.0000 - val_loss: 19369656.0000\n",
      "Epoch 233/300\n",
      "37/37 [==============================] - 0s 1ms/step - loss: 18015030.0000 - val_loss: 19499796.0000\n",
      "Epoch 234/300\n",
      "37/37 [==============================] - 0s 1ms/step - loss: 18007804.0000 - val_loss: 19390426.0000\n",
      "Epoch 235/300\n",
      "37/37 [==============================] - 0s 1ms/step - loss: 18054712.0000 - val_loss: 19358324.0000\n",
      "Epoch 236/300\n",
      "37/37 [==============================] - 0s 1ms/step - loss: 17987916.0000 - val_loss: 19375062.0000\n",
      "Epoch 237/300\n",
      "37/37 [==============================] - 0s 1ms/step - loss: 17985076.0000 - val_loss: 19388244.0000\n",
      "Epoch 238/300\n",
      "37/37 [==============================] - 0s 1ms/step - loss: 17989584.0000 - val_loss: 19366448.0000\n",
      "Epoch 239/300\n",
      "37/37 [==============================] - 0s 1ms/step - loss: 17994038.0000 - val_loss: 19334990.0000\n",
      "Epoch 240/300\n",
      "37/37 [==============================] - 0s 1ms/step - loss: 17968672.0000 - val_loss: 19343916.0000\n",
      "Epoch 241/300\n",
      "37/37 [==============================] - 0s 1ms/step - loss: 17999636.0000 - val_loss: 19341576.0000\n",
      "Epoch 242/300\n",
      "37/37 [==============================] - 0s 1ms/step - loss: 17991784.0000 - val_loss: 19309178.0000\n",
      "Epoch 243/300\n",
      "37/37 [==============================] - 0s 1ms/step - loss: 17972936.0000 - val_loss: 19332496.0000\n",
      "Epoch 244/300\n",
      "37/37 [==============================] - 0s 1ms/step - loss: 17991136.0000 - val_loss: 19322168.0000\n",
      "Epoch 245/300\n",
      "37/37 [==============================] - 0s 1ms/step - loss: 17944372.0000 - val_loss: 19296518.0000\n",
      "Epoch 246/300\n",
      "37/37 [==============================] - 0s 1ms/step - loss: 17968346.0000 - val_loss: 19290380.0000\n",
      "Epoch 247/300\n",
      "37/37 [==============================] - 0s 1ms/step - loss: 18012808.0000 - val_loss: 19293686.0000\n",
      "Epoch 248/300\n",
      "37/37 [==============================] - 0s 2ms/step - loss: 17933346.0000 - val_loss: 19296074.0000\n",
      "Epoch 249/300\n",
      "37/37 [==============================] - 0s 1ms/step - loss: 17975702.0000 - val_loss: 19275258.0000\n",
      "Epoch 250/300\n",
      "37/37 [==============================] - 0s 1ms/step - loss: 17939012.0000 - val_loss: 19268710.0000\n",
      "Epoch 251/300\n",
      "37/37 [==============================] - 0s 1ms/step - loss: 17936662.0000 - val_loss: 19267548.0000\n",
      "Epoch 252/300\n",
      "37/37 [==============================] - 0s 1ms/step - loss: 17979842.0000 - val_loss: 19385494.0000\n",
      "Epoch 253/300\n",
      "37/37 [==============================] - 0s 1ms/step - loss: 17925922.0000 - val_loss: 19257940.0000\n",
      "Epoch 254/300\n",
      "37/37 [==============================] - 0s 1ms/step - loss: 17912776.0000 - val_loss: 19330544.0000\n",
      "Epoch 255/300\n",
      "37/37 [==============================] - 0s 1ms/step - loss: 17958518.0000 - val_loss: 19285770.0000\n",
      "Epoch 256/300\n",
      "37/37 [==============================] - 0s 1ms/step - loss: 17941722.0000 - val_loss: 19300294.0000\n",
      "Epoch 257/300\n",
      "37/37 [==============================] - 0s 1ms/step - loss: 17936970.0000 - val_loss: 19247330.0000\n",
      "Epoch 258/300\n",
      "37/37 [==============================] - 0s 1ms/step - loss: 17914846.0000 - val_loss: 19264154.0000\n",
      "Epoch 259/300\n",
      "37/37 [==============================] - 0s 1ms/step - loss: 17934998.0000 - val_loss: 19234842.0000\n",
      "Epoch 260/300\n",
      "37/37 [==============================] - 0s 1ms/step - loss: 17928082.0000 - val_loss: 19250888.0000\n",
      "Epoch 261/300\n",
      "37/37 [==============================] - 0s 1ms/step - loss: 17937340.0000 - val_loss: 19269968.0000\n",
      "Epoch 262/300\n",
      "37/37 [==============================] - 0s 1ms/step - loss: 18047242.0000 - val_loss: 19277866.0000\n",
      "Epoch 263/300\n",
      "37/37 [==============================] - 0s 1ms/step - loss: 17939322.0000 - val_loss: 19237762.0000\n",
      "Epoch 264/300\n",
      "37/37 [==============================] - 0s 1ms/step - loss: 17895972.0000 - val_loss: 19275960.0000\n",
      "Epoch 265/300\n",
      "37/37 [==============================] - 0s 1ms/step - loss: 17923428.0000 - val_loss: 19209680.0000\n",
      "Epoch 266/300\n",
      "37/37 [==============================] - 0s 1ms/step - loss: 17887500.0000 - val_loss: 19231884.0000\n",
      "Epoch 267/300\n",
      "37/37 [==============================] - 0s 1ms/step - loss: 17872830.0000 - val_loss: 19199648.0000\n",
      "Epoch 268/300\n",
      "37/37 [==============================] - 0s 1ms/step - loss: 17865624.0000 - val_loss: 19199926.0000\n",
      "Epoch 269/300\n",
      "37/37 [==============================] - 0s 1ms/step - loss: 17868476.0000 - val_loss: 19190218.0000\n",
      "Epoch 270/300\n",
      "37/37 [==============================] - 0s 1ms/step - loss: 17902460.0000 - val_loss: 19179310.0000\n",
      "Epoch 271/300\n",
      "37/37 [==============================] - 0s 1ms/step - loss: 17896552.0000 - val_loss: 19220736.0000\n",
      "Epoch 272/300\n",
      "37/37 [==============================] - 0s 1ms/step - loss: 17937992.0000 - val_loss: 19173744.0000\n",
      "Epoch 273/300\n",
      "37/37 [==============================] - 0s 1ms/step - loss: 17868912.0000 - val_loss: 19179238.0000\n",
      "Epoch 274/300\n",
      "37/37 [==============================] - 0s 1ms/step - loss: 17903434.0000 - val_loss: 19252478.0000\n",
      "Epoch 275/300\n",
      "37/37 [==============================] - 0s 1ms/step - loss: 17872040.0000 - val_loss: 19206722.0000\n",
      "Epoch 276/300\n",
      "37/37 [==============================] - 0s 1ms/step - loss: 17889780.0000 - val_loss: 19163222.0000\n",
      "Epoch 277/300\n",
      "37/37 [==============================] - 0s 1ms/step - loss: 17865542.0000 - val_loss: 19161698.0000\n",
      "Epoch 278/300\n",
      "37/37 [==============================] - 0s 1ms/step - loss: 17855308.0000 - val_loss: 19201876.0000\n",
      "Epoch 279/300\n",
      "37/37 [==============================] - 0s 1ms/step - loss: 17856146.0000 - val_loss: 19178770.0000\n",
      "Epoch 280/300\n",
      "37/37 [==============================] - 0s 1ms/step - loss: 17889280.0000 - val_loss: 19252434.0000\n",
      "Epoch 281/300\n",
      "37/37 [==============================] - 0s 1ms/step - loss: 17836454.0000 - val_loss: 19154924.0000\n",
      "Epoch 282/300\n",
      "37/37 [==============================] - 0s 1ms/step - loss: 17856010.0000 - val_loss: 19148232.0000\n",
      "Epoch 283/300\n",
      "37/37 [==============================] - 0s 1ms/step - loss: 17822330.0000 - val_loss: 19311916.0000\n",
      "Epoch 284/300\n",
      "37/37 [==============================] - 0s 1ms/step - loss: 17840782.0000 - val_loss: 19154178.0000\n",
      "Epoch 285/300\n",
      "37/37 [==============================] - 0s 1ms/step - loss: 17838140.0000 - val_loss: 19169404.0000\n",
      "Epoch 286/300\n"
     ]
    },
    {
     "name": "stdout",
     "output_type": "stream",
     "text": [
      "37/37 [==============================] - 0s 1ms/step - loss: 17860816.0000 - val_loss: 19133614.0000\n",
      "Epoch 287/300\n",
      "37/37 [==============================] - 0s 1ms/step - loss: 17865766.0000 - val_loss: 19274468.0000\n",
      "Epoch 288/300\n",
      "37/37 [==============================] - 0s 1ms/step - loss: 17873608.0000 - val_loss: 19201076.0000\n",
      "Epoch 289/300\n",
      "37/37 [==============================] - 0s 1ms/step - loss: 17853318.0000 - val_loss: 19294556.0000\n",
      "Epoch 290/300\n",
      "37/37 [==============================] - 0s 1ms/step - loss: 17850870.0000 - val_loss: 19137600.0000\n",
      "Epoch 291/300\n",
      "37/37 [==============================] - 0s 1ms/step - loss: 17844430.0000 - val_loss: 19169258.0000\n",
      "Epoch 292/300\n",
      "37/37 [==============================] - 0s 1ms/step - loss: 17815322.0000 - val_loss: 19114912.0000\n",
      "Epoch 293/300\n",
      "37/37 [==============================] - 0s 1ms/step - loss: 17819422.0000 - val_loss: 19274978.0000\n",
      "Epoch 294/300\n",
      "37/37 [==============================] - 0s 1ms/step - loss: 17803768.0000 - val_loss: 19117486.0000\n",
      "Epoch 295/300\n",
      "37/37 [==============================] - 0s 1ms/step - loss: 17803036.0000 - val_loss: 19150028.0000\n",
      "Epoch 296/300\n",
      "37/37 [==============================] - 0s 1ms/step - loss: 17835800.0000 - val_loss: 19093776.0000\n",
      "Epoch 297/300\n",
      "37/37 [==============================] - 0s 1ms/step - loss: 17849734.0000 - val_loss: 19096492.0000\n",
      "Epoch 298/300\n",
      "37/37 [==============================] - 0s 1ms/step - loss: 17854228.0000 - val_loss: 19164842.0000\n",
      "Epoch 299/300\n",
      "37/37 [==============================] - 0s 1ms/step - loss: 17805356.0000 - val_loss: 19148478.0000\n",
      "Epoch 300/300\n",
      "37/37 [==============================] - 0s 1ms/step - loss: 17834988.0000 - val_loss: 19199670.0000\n"
     ]
    },
    {
     "data": {
      "text/plain": [
       "<keras.callbacks.History at 0x2053cd7dc10>"
      ]
     },
     "execution_count": 98,
     "metadata": {},
     "output_type": "execute_result"
    }
   ],
   "source": [
    "model.fit(x=x_train,y=y_train,validation_data=(x_test,y_test),batch_size=250,epochs=300)\n"
   ]
  },
  {
   "cell_type": "code",
   "execution_count": 99,
   "id": "4e0ae607",
   "metadata": {},
   "outputs": [],
   "source": [
    "kayipVerisi=pd.DataFrame(model.history.history)"
   ]
  },
  {
   "cell_type": "code",
   "execution_count": 100,
   "id": "05feee67",
   "metadata": {},
   "outputs": [
    {
     "data": {
      "text/html": [
       "<div>\n",
       "<style scoped>\n",
       "    .dataframe tbody tr th:only-of-type {\n",
       "        vertical-align: middle;\n",
       "    }\n",
       "\n",
       "    .dataframe tbody tr th {\n",
       "        vertical-align: top;\n",
       "    }\n",
       "\n",
       "    .dataframe thead th {\n",
       "        text-align: right;\n",
       "    }\n",
       "</style>\n",
       "<table border=\"1\" class=\"dataframe\">\n",
       "  <thead>\n",
       "    <tr style=\"text-align: right;\">\n",
       "      <th></th>\n",
       "      <th>loss</th>\n",
       "      <th>val_loss</th>\n",
       "    </tr>\n",
       "  </thead>\n",
       "  <tbody>\n",
       "    <tr>\n",
       "      <th>0</th>\n",
       "      <td>672143616.0</td>\n",
       "      <td>688095040.0</td>\n",
       "    </tr>\n",
       "    <tr>\n",
       "      <th>1</th>\n",
       "      <td>672085184.0</td>\n",
       "      <td>687962560.0</td>\n",
       "    </tr>\n",
       "    <tr>\n",
       "      <th>2</th>\n",
       "      <td>671771072.0</td>\n",
       "      <td>687309504.0</td>\n",
       "    </tr>\n",
       "    <tr>\n",
       "      <th>3</th>\n",
       "      <td>670323776.0</td>\n",
       "      <td>684401216.0</td>\n",
       "    </tr>\n",
       "    <tr>\n",
       "      <th>4</th>\n",
       "      <td>664291520.0</td>\n",
       "      <td>672917760.0</td>\n",
       "    </tr>\n",
       "  </tbody>\n",
       "</table>\n",
       "</div>"
      ],
      "text/plain": [
       "          loss     val_loss\n",
       "0  672143616.0  688095040.0\n",
       "1  672085184.0  687962560.0\n",
       "2  671771072.0  687309504.0\n",
       "3  670323776.0  684401216.0\n",
       "4  664291520.0  672917760.0"
      ]
     },
     "execution_count": 100,
     "metadata": {},
     "output_type": "execute_result"
    }
   ],
   "source": [
    "kayipVerisi.head()"
   ]
  },
  {
   "cell_type": "code",
   "execution_count": 101,
   "id": "ed1fb783",
   "metadata": {},
   "outputs": [
    {
     "data": {
      "text/plain": [
       "<AxesSubplot:>"
      ]
     },
     "execution_count": 101,
     "metadata": {},
     "output_type": "execute_result"
    },
    {
     "data": {
      "image/png": "[encoded data removed]",
      "text/plain": [
       "<Figure size 432x288 with 1 Axes>"
      ]
     },
     "metadata": {
      "needs_background": "light"
     },
     "output_type": "display_data"
    }
   ],
   "source": [
    "kayipVerisi.plot()"
   ]
  },
  {
   "cell_type": "code",
   "execution_count": 102,
   "id": "d2522891",
   "metadata": {},
   "outputs": [],
   "source": [
    "from sklearn.metrics import mean_squared_error,mean_absolute_error"
   ]
  },
  {
   "cell_type": "code",
   "execution_count": 103,
   "id": "18cb080e",
   "metadata": {},
   "outputs": [],
   "source": [
    "tahminDizisi=model.predict(x_test)"
   ]
  },
  {
   "cell_type": "code",
   "execution_count": 104,
   "id": "ca9b298a",
   "metadata": {},
   "outputs": [
    {
     "data": {
      "text/plain": [
       "array([[22110.77 ],\n",
       "       [22542.893],\n",
       "       [26087.277],\n",
       "       ...,\n",
       "       [26942.209],\n",
       "       [13984.976],\n",
       "       [25324.434]], dtype=float32)"
      ]
     },
     "execution_count": 104,
     "metadata": {},
     "output_type": "execute_result"
    }
   ],
   "source": [
    "tahminDizisi"
   ]
  },
  {
   "cell_type": "code",
   "execution_count": 105,
   "id": "d5960ea4",
   "metadata": {},
   "outputs": [
    {
     "data": {
      "text/plain": [
       "3145.2073436146798"
      ]
     },
     "execution_count": 105,
     "metadata": {},
     "output_type": "execute_result"
    }
   ],
   "source": [
    "mean_absolute_error(y_test,tahminDizisi)"
   ]
  },
  {
   "cell_type": "code",
   "execution_count": 106,
   "id": "becf013a",
   "metadata": {},
   "outputs": [
    {
     "data": {
      "text/html": [
       "<div>\n",
       "<style scoped>\n",
       "    .dataframe tbody tr th:only-of-type {\n",
       "        vertical-align: middle;\n",
       "    }\n",
       "\n",
       "    .dataframe tbody tr th {\n",
       "        vertical-align: top;\n",
       "    }\n",
       "\n",
       "    .dataframe thead th {\n",
       "        text-align: right;\n",
       "    }\n",
       "</style>\n",
       "<table border=\"1\" class=\"dataframe\">\n",
       "  <thead>\n",
       "    <tr style=\"text-align: right;\">\n",
       "      <th></th>\n",
       "      <th>year</th>\n",
       "      <th>price</th>\n",
       "      <th>mileage</th>\n",
       "      <th>tax</th>\n",
       "      <th>mpg</th>\n",
       "      <th>engineSize</th>\n",
       "    </tr>\n",
       "  </thead>\n",
       "  <tbody>\n",
       "    <tr>\n",
       "      <th>count</th>\n",
       "      <td>12987.000000</td>\n",
       "      <td>12987.000000</td>\n",
       "      <td>12987.000000</td>\n",
       "      <td>12987.000000</td>\n",
       "      <td>12987.000000</td>\n",
       "      <td>12987.000000</td>\n",
       "    </tr>\n",
       "    <tr>\n",
       "      <th>mean</th>\n",
       "      <td>2017.285516</td>\n",
       "      <td>24074.855779</td>\n",
       "      <td>22133.367367</td>\n",
       "      <td>129.676215</td>\n",
       "      <td>55.438392</td>\n",
       "      <td>2.051059</td>\n",
       "    </tr>\n",
       "    <tr>\n",
       "      <th>std</th>\n",
       "      <td>2.189633</td>\n",
       "      <td>9866.601115</td>\n",
       "      <td>21197.472376</td>\n",
       "      <td>65.167429</td>\n",
       "      <td>15.025902</td>\n",
       "      <td>0.532313</td>\n",
       "    </tr>\n",
       "    <tr>\n",
       "      <th>min</th>\n",
       "      <td>1997.000000</td>\n",
       "      <td>650.000000</td>\n",
       "      <td>1.000000</td>\n",
       "      <td>0.000000</td>\n",
       "      <td>1.100000</td>\n",
       "      <td>0.000000</td>\n",
       "    </tr>\n",
       "    <tr>\n",
       "      <th>25%</th>\n",
       "      <td>2016.000000</td>\n",
       "      <td>17355.000000</td>\n",
       "      <td>6320.000000</td>\n",
       "      <td>125.000000</td>\n",
       "      <td>45.600000</td>\n",
       "      <td>1.700000</td>\n",
       "    </tr>\n",
       "    <tr>\n",
       "      <th>50%</th>\n",
       "      <td>2018.000000</td>\n",
       "      <td>22299.000000</td>\n",
       "      <td>15371.000000</td>\n",
       "      <td>145.000000</td>\n",
       "      <td>56.500000</td>\n",
       "      <td>2.000000</td>\n",
       "    </tr>\n",
       "    <tr>\n",
       "      <th>75%</th>\n",
       "      <td>2019.000000</td>\n",
       "      <td>28706.000000</td>\n",
       "      <td>31986.500000</td>\n",
       "      <td>145.000000</td>\n",
       "      <td>64.200000</td>\n",
       "      <td>2.100000</td>\n",
       "    </tr>\n",
       "    <tr>\n",
       "      <th>max</th>\n",
       "      <td>2020.000000</td>\n",
       "      <td>65990.000000</td>\n",
       "      <td>259000.000000</td>\n",
       "      <td>580.000000</td>\n",
       "      <td>217.300000</td>\n",
       "      <td>6.200000</td>\n",
       "    </tr>\n",
       "  </tbody>\n",
       "</table>\n",
       "</div>"
      ],
      "text/plain": [
       "               year         price        mileage           tax           mpg  \\\n",
       "count  12987.000000  12987.000000   12987.000000  12987.000000  12987.000000   \n",
       "mean    2017.285516  24074.855779   22133.367367    129.676215     55.438392   \n",
       "std        2.189633   9866.601115   21197.472376     65.167429     15.025902   \n",
       "min     1997.000000    650.000000       1.000000      0.000000      1.100000   \n",
       "25%     2016.000000  17355.000000    6320.000000    125.000000     45.600000   \n",
       "50%     2018.000000  22299.000000   15371.000000    145.000000     56.500000   \n",
       "75%     2019.000000  28706.000000   31986.500000    145.000000     64.200000   \n",
       "max     2020.000000  65990.000000  259000.000000    580.000000    217.300000   \n",
       "\n",
       "         engineSize  \n",
       "count  12987.000000  \n",
       "mean       2.051059  \n",
       "std        0.532313  \n",
       "min        0.000000  \n",
       "25%        1.700000  \n",
       "50%        2.000000  \n",
       "75%        2.100000  \n",
       "max        6.200000  "
      ]
     },
     "execution_count": 106,
     "metadata": {},
     "output_type": "execute_result"
    }
   ],
   "source": [
    "dataFrame.describe()"
   ]
  },
  {
   "cell_type": "code",
   "execution_count": 107,
   "id": "45bb4c31",
   "metadata": {},
   "outputs": [
    {
     "data": {
      "text/plain": [
       "[<matplotlib.lines.Line2D at 0x2053d067190>]"
      ]
     },
     "execution_count": 107,
     "metadata": {},
     "output_type": "execute_result"
    },
    {
     "data": {
      "image/png": "[encoded data removed]",
      "text/plain": [
       "<Figure size 432x288 with 1 Axes>"
      ]
     },
     "metadata": {
      "needs_background": "light"
     },
     "output_type": "display_data"
    }
   ],
   "source": [
    "plt.scatter(y_test,tahminDizisi)\n",
    "plt.plot(y_test,y_test,\"g-*\")"
   ]
  },
  {
   "cell_type": "code",
   "execution_count": 108,
   "id": "ed8f550f",
   "metadata": {},
   "outputs": [
    {
     "data": {
      "text/plain": [
       "year           2020.0\n",
       "price         65980.0\n",
       "mileage        3999.0\n",
       "tax             145.0\n",
       "mpg              28.0\n",
       "engineSize        4.0\n",
       "Name: 3191, dtype: float64"
      ]
     },
     "execution_count": 108,
     "metadata": {},
     "output_type": "execute_result"
    }
   ],
   "source": [
    "dataFrame.iloc[2]"
   ]
  },
  {
   "cell_type": "code",
   "execution_count": 109,
   "id": "ddb96e83",
   "metadata": {},
   "outputs": [],
   "source": [
    "yeniArabaSeries=dataFrame.drop(\"price\",axis=1).iloc[2]"
   ]
  },
  {
   "cell_type": "code",
   "execution_count": 110,
   "id": "47bed055",
   "metadata": {},
   "outputs": [
    {
     "data": {
      "text/plain": [
       "year          2020.0\n",
       "mileage       3999.0\n",
       "tax            145.0\n",
       "mpg             28.0\n",
       "engineSize       4.0\n",
       "Name: 3191, dtype: float64"
      ]
     },
     "execution_count": 110,
     "metadata": {},
     "output_type": "execute_result"
    }
   ],
   "source": [
    "yeniArabaSeries"
   ]
  },
  {
   "cell_type": "code",
   "execution_count": 111,
   "id": "d2a6cf9b",
   "metadata": {},
   "outputs": [],
   "source": [
    "yeniArabaSeries=scaler.transform(yeniArabaSeries.values.reshape(-1,5))"
   ]
  },
  {
   "cell_type": "code",
   "execution_count": 112,
   "id": "48f91032",
   "metadata": {},
   "outputs": [
    {
     "data": {
      "text/plain": [
       "array([[64274.21]], dtype=float32)"
      ]
     },
     "execution_count": 112,
     "metadata": {},
     "output_type": "execute_result"
    }
   ],
   "source": [
    "model.predict(yeniArabaSeries)"
   ]
  },
  {
   "cell_type": "code",
   "execution_count": null,
   "id": "a15d8eb6",
   "metadata": {},
   "outputs": [],
   "source": []
  }
 ],
 "metadata": {
  "kernelspec": {
   "display_name": "Python 3 (ipykernel)",
   "language": "python",
   "name": "python3"
  },
  "language_info": {
   "codemirror_mode": {
    "name": "ipython",
    "version": 3
   },
   "file_extension": ".py",
   "mimetype": "text/x-python",
   "name": "python",
   "nbconvert_exporter": "python",
   "pygments_lexer": "ipython3",
   "version": "3.9.7"
  }
 },
 "nbformat": 4,
 "nbformat_minor": 5
}
